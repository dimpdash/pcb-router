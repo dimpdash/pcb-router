{
 "metadata": {
  "language_info": {
   "codemirror_mode": {
    "name": "ipython",
    "version": 3
   },
   "file_extension": ".py",
   "mimetype": "text/x-python",
   "name": "python",
   "nbconvert_exporter": "python",
   "pygments_lexer": "ipython3",
   "version": "3.8.5-final"
  },
  "orig_nbformat": 2,
  "kernelspec": {
   "name": "python3",
   "display_name": "Python 3.8.5 64-bit ('venv')",
   "metadata": {
    "interpreter": {
     "hash": "c308192bfc22dbed02460204f823ffc3dc409c3b3423b9a3bd92acaefab5c500"
    }
   }
  }
 },
 "nbformat": 4,
 "nbformat_minor": 2,
 "cells": [
  {
   "cell_type": "code",
   "execution_count": 2,
   "metadata": {
    "tags": []
   },
   "outputs": [],
   "source": [
    "%load_ext autoreload\n",
    "%autoreload 2\n",
    "\n",
    "from createTrainingAndTestData import extractPads, extractRouteElements, compressPadData\n",
    "from scraperTools import getDataFromFile, saveDataToFile, seqGetDataFromFile\n"
   ]
  },
  {
   "cell_type": "code",
   "execution_count": 3,
   "metadata": {
    "tags": []
   },
   "outputs": [
    {
     "output_type": "stream",
     "name": "stdout",
     "text": [
      "1504\n"
     ]
    }
   ],
   "source": [
    "testData = getDataFromFile(\"pcb files json/pcb files json 10.data\");\n",
    "print(len(testData))"
   ]
  },
  {
   "cell_type": "code",
   "execution_count": 5,
   "metadata": {},
   "outputs": [
    {
     "output_type": "error",
     "ename": "KeyError",
     "evalue": "0",
     "traceback": [
      "\u001b[0;31m---------------------------------------------------------------------------\u001b[0m",
      "\u001b[0;31mKeyError\u001b[0m                                  Traceback (most recent call last)",
      "\u001b[0;32m<ipython-input-5-d83fcae1a591>\u001b[0m in \u001b[0;36m<module>\u001b[0;34m\u001b[0m\n\u001b[0;32m----> 1\u001b[0;31m \u001b[0mprint\u001b[0m\u001b[0;34m(\u001b[0m\u001b[0mtestData\u001b[0m\u001b[0;34m[\u001b[0m\u001b[0;36m0\u001b[0m\u001b[0;34m]\u001b[0m\u001b[0;34m.\u001b[0m\u001b[0mkeys\u001b[0m\u001b[0;34m(\u001b[0m\u001b[0;34m)\u001b[0m\u001b[0;34m)\u001b[0m\u001b[0;34m\u001b[0m\u001b[0;34m\u001b[0m\u001b[0m\n\u001b[0m",
      "\u001b[0;31mKeyError\u001b[0m: 0"
     ]
    }
   ],
   "source": [
    "for pcb in testData:\n",
    "    print(pcb.keys())\n",
    "    break"
   ]
  },
  {
   "cell_type": "code",
   "execution_count": 4,
   "metadata": {},
   "outputs": [
    {
     "output_type": "error",
     "ename": "TypeError",
     "evalue": "string indices must be integers",
     "traceback": [
      "\u001b[0;31m---------------------------------------------------------------------------\u001b[0m",
      "\u001b[0;31mTypeError\u001b[0m                                 Traceback (most recent call last)",
      "\u001b[0;32m<ipython-input-4-9240445adb35>\u001b[0m in \u001b[0;36m<module>\u001b[0;34m\u001b[0m\n\u001b[1;32m      1\u001b[0m \u001b[0;32mfor\u001b[0m \u001b[0mpcb\u001b[0m \u001b[0;32min\u001b[0m \u001b[0mtestData\u001b[0m\u001b[0;34m:\u001b[0m\u001b[0;34m\u001b[0m\u001b[0;34m\u001b[0m\u001b[0m\n\u001b[0;32m----> 2\u001b[0;31m     \u001b[0;32mif\u001b[0m \u001b[0mpcb\u001b[0m\u001b[0;34m[\u001b[0m\u001b[0;34m\"result\"\u001b[0m\u001b[0;34m]\u001b[0m\u001b[0;34m[\u001b[0m\u001b[0;34m\"uuid\"\u001b[0m\u001b[0;34m]\u001b[0m \u001b[0;34m==\u001b[0m \u001b[0mids\u001b[0m\u001b[0;34m:\u001b[0m\u001b[0;34m\u001b[0m\u001b[0;34m\u001b[0m\u001b[0m\n\u001b[0m\u001b[1;32m      3\u001b[0m         \u001b[0mpcbFound\u001b[0m \u001b[0;34m=\u001b[0m \u001b[0mpcb\u001b[0m\u001b[0;34m\u001b[0m\u001b[0;34m\u001b[0m\u001b[0m\n\u001b[1;32m      4\u001b[0m         \u001b[0mprint\u001b[0m\u001b[0;34m(\u001b[0m\u001b[0mindex\u001b[0m\u001b[0;34m)\u001b[0m\u001b[0;34m\u001b[0m\u001b[0;34m\u001b[0m\u001b[0m\n\u001b[1;32m      5\u001b[0m         \u001b[0;32mbreak\u001b[0m\u001b[0;34m\u001b[0m\u001b[0;34m\u001b[0m\u001b[0m\n",
      "\u001b[0;31mTypeError\u001b[0m: string indices must be integers"
     ]
    }
   ],
   "source": [
    "for pcb in testData:\n",
    "    if pcb[\"result\"][\"uuid\"] == ids:\n",
    "        pcbFound = pcb\n",
    "        print(index)\n",
    "        break"
   ]
  },
  {
   "cell_type": "code",
   "execution_count": 23,
   "metadata": {
    "tags": [
     "outputPrepend"
    ]
   },
   "outputs": [
    {
     "output_type": "stream",
     "name": "stdout",
     "text": [
      "}, {'TRACK': {'width': 0.8, 'layer': 3, 'net': '', 'points': [(4183.0, 3229.0), (4173.0, 3229.0), (4173.0, 3189.0), (4183.0, 3189.0), (4183.0, 3196.5)], 'id': 'gge17'}}, {'TRACK': {'width': 0.79921, 'layer': 3, 'net': '', 'points': [(4183.0, 3229.0), (4183.0, 3196.5)], 'id': 'gge18'}}, {'PAD': {'type': 'RECT', 'x': 4178.0, 'y': 3194.0, 'width': 6.2, 'height': 6.2, 'layer': 11, 'net': 'P1_VCC', 'rot': 270.0, 'id': 'gge5'}}, {'PAD': {'type': 'ELLIPSE', 'x': 4178.0, 'y': 3204.0, 'width': 6.2, 'height': 6.2, 'layer': 11, 'net': 'SW1_2', 'rot': 270.0, 'id': 'gge8'}}, {'PAD': {'type': 'ELLIPSE', 'x': 4178.0, 'y': 3214.0, 'width': 6.2, 'height': 6.2, 'layer': 11, 'net': 'P9_8', 'rot': 270.0, 'id': 'gge11'}}, {'PAD': {'type': 'ELLIPSE', 'x': 4178.0, 'y': 3224.0, 'width': 6.2, 'height': 6.2, 'layer': 11, 'net': '', 'rot': 270.0, 'id': 'gge14'}}]}, {'LIB': [{'TEXT': None}, {'TRACK': {'width': 0.8, 'layer': 3, 'net': '', 'points': [(4203.0, 3229.0), (4193.0, 3229.0), (4193.0, 3189.0), (4203.0, 3189.0), (4203.0, 3196.5)], 'id': 'gge69'}}, {'TRACK': {'width': 0.79921, 'layer': 3, 'net': '', 'points': [(4203.0, 3229.0), (4203.0, 3196.5)], 'id': 'gge70'}}, {'PAD': {'type': 'RECT', 'x': 4198.0, 'y': 3194.0, 'width': 6.2, 'height': 6.2, 'layer': 11, 'net': 'P1_VCC', 'rot': 270.0, 'id': 'gge57'}}, {'PAD': {'type': 'ELLIPSE', 'x': 4198.0, 'y': 3204.0, 'width': 6.2, 'height': 6.2, 'layer': 11, 'net': 'SW1_2', 'rot': 270.0, 'id': 'gge60'}}, {'PAD': {'type': 'ELLIPSE', 'x': 4198.0, 'y': 3214.0, 'width': 6.2, 'height': 6.2, 'layer': 11, 'net': 'MK1_22', 'rot': 270.0, 'id': 'gge63'}}, {'PAD': {'type': 'ELLIPSE', 'x': 4198.0, 'y': 3224.0, 'width': 6.2, 'height': 6.2, 'layer': 11, 'net': 'P7_2', 'rot': 270.0, 'id': 'gge66'}}]}, {'LIB': [{'TEXT': None}, {'ARC': None}, {'PAD': {'type': 'ELLIPSE', 'x': 4147.0, 'y': 3218.0, 'width': 6.5, 'height': 6.5, 'layer': 11, 'net': 'P9_5', 'rot': 90.0, 'id': 'gge76'}}, {'PAD': {'type': 'ELLIPSE', 'x': 4147.0, 'y': 3228.0, 'width': 6.5, 'height': 6.5, 'layer': 11, 'net': 'SW1_2', 'rot': 90.0, 'id': 'gge79'}}, {'TRACK': {'width': 1.0, 'layer': 3, 'net': '', 'points': [(4142.008, 3230.49), (4152.039, 3230.511)], 'id': 'gge82'}}]}, {'LIB': [{'TEXT': None}, {'ARC': None}, {'ARC': None}, {'ARC': None}, {'ARC': None}, {'ARC': None}, {'ARC': None}, {'PAD': {'type': 'RECT', 'x': 4123.0, 'y': 3232.0, 'width': 6.0, 'height': 4.0, 'layer': 1, 'net': '', 'rot': 270.0, 'id': 'gge93'}}, {'PAD': {'type': 'RECT', 'x': 4123.0, 'y': 3200.5, 'width': 6.0, 'height': 4.0, 'layer': 1, 'net': 'SW1_2', 'rot': 270.0, 'id': 'gge96'}}, {'PAD': {'type': 'RECT', 'x': 4105.28, 'y': 3200.5, 'width': 6.0, 'height': 4.0, 'layer': 1, 'net': 'P9_4', 'rot': 270.0, 'id': 'gge99'}}, {'PAD': {'type': 'RECT', 'x': 4105.28, 'y': 3232.0, 'width': 6.0, 'height': 4.0, 'layer': 1, 'net': 'U2_1', 'rot': 270.0, 'id': 'gge102'}}, {'TRACK': {'width': 1.0, 'layer': 3, 'net': '', 'points': [(4123.787, 3204.831), (4102.528, 3204.831), (4102.528, 3227.665), (4103.709, 3227.665), (4125.756, 3227.665), (4125.756, 3204.831), (4123.394, 3204.831)], 'id': 'gge105'}}]}, {'LIB': [{'TEXT': None}, {'TRACK': {'width': 1.0, 'layer': 3, 'net': '', 'points': [(4258.0, 3164.992), (4320.992, 3164.992)], 'id': 'gge110'}}, {'TRACK': {'width': 1.0, 'layer': 3, 'net': '', 'points': [(4320.992, 3164.992), (4320.992, 3070.504)], 'id': 'gge111'}}, {'TRACK': {'width': 1.0, 'layer': 3, 'net': '', 'points': [(4320.992, 3070.504), (4258.0, 3070.504), (4258.0, 3164.992)], 'id': 'gge112'}}, {'TRACK': {'width': 1.0, 'layer': 3, 'net': '', 'points': [(4261.937, 3098.063), (4317.055, 3098.063)], 'id': 'gge113'}}, {'TRACK': {'width': 1.0, 'layer': 3, 'net': '', 'points': [(4309.181, 3094.126), (4269.811, 3094.126), (4269.811, 3074.441), (4273.748, 3074.441), (4273.748, 3086.252), (4277.685, 3086.252), (4277.685, 3074.441), (4281.622, 3074.441), (4281.622, 3086.252), (4285.559, 3086.252), (4285.559, 3074.441), (4289.496, 3074.441), (4289.496, 3086.252), (4293.433, 3086.252), (4293.433, 3074.441), (4317.055, 3074.441)], 'id': 'gge114'}}, {'TRACK': {'width': 1.0, 'layer': 3, 'net': '', 'points': [(4265.874, 3105.937), (4265.874, 3157.118), (4313.118, 3157.118), (4313.118, 3105.937), (4265.874, 3105.937)], 'id': 'gge115'}}, {'TEXT': None}, {'PAD': {'type': 'RECT', 'x': 4258.0, 'y': 3102.0, 'width': 7.874, 'height': 3.937, 'layer': 1, 'net': 'MK1_1', 'rot': 0.0, 'id': 'gge116'}}, {'PAD': {'type': 'RECT', 'x': 4258.0, 'y': 3109.88, 'width': 7.874, 'height': 3.937, 'layer': 1, 'net': 'P8_9', 'rot': 0.0, 'id': 'gge119'}}, {'PAD': {'type': 'RECT', 'x': 4258.0, 'y': 3117.75, 'width': 7.874, 'height': 3.937, 'layer': 1, 'net': 'SW1_2', 'rot': 0.0, 'id': 'gge122'}}, {'PAD': {'type': 'RECT', 'x': 4258.0, 'y': 3125.62, 'width': 7.874, 'height': 3.937, 'layer': 1, 'net': 'P8_7', 'rot': 0.0, 'id': 'gge125'}}, {'PAD': {'type': 'RECT', 'x': 4258.0, 'y': 3133.5, 'width': 7.874, 'height': 3.937, 'layer': 1, 'net': 'P8_6', 'rot': 0.0, 'id': 'gge128'}}, {'PAD': {'type': 'RECT', 'x': 4258.0, 'y': 3141.37, 'width': 7.874, 'height': 3.937, 'layer': 1, 'net': 'P8_5', 'rot': 0.0, 'id': 'gge131'}}, {'PAD': {'type': 'RECT', 'x': 4258.0, 'y': 3149.24, 'width': 7.874, 'height': 3.937, 'layer': 1, 'net': 'P8_4', 'rot': 0.0, 'id': 'gge134'}}, {'PAD': {'type': 'RECT', 'x': 4258.0, 'y': 3157.12, 'width': 7.874, 'height': 3.937, 'layer': 1, 'net': 'SW1_2', 'rot': 0.0, 'id': 'gge137'}}, {'PAD': {'type': 'RECT', 'x': 4269.82, 'y': 3164.99, 'width': 7.874, 'height': 3.937, 'layer': 1, 'net': 'P8_3', 'rot': 90.0, 'id': 'gge140'}}, {'PAD': {'type': 'RECT', 'x': 4277.69, 'y': 3164.99, 'width': 7.874, 'height': 3.937, 'layer': 1, 'net': 'P8_2', 'rot': 90.0, 'id': 'gge143'}}, {'PAD': {'type': 'RECT', 'x': 4285.56, 'y': 3164.99, 'width': 7.874, 'height': 3.937, 'layer': 1, 'net': 'MK1_11', 'rot': 90.0, 'id': 'gge146'}}, {'PAD': {'type': 'RECT', 'x': 4293.44, 'y': 3164.99, 'width': 7.874, 'height': 3.937, 'layer': 1, 'net': 'MK1_12', 'rot': 90.0, 'id': 'gge149'}}, {'PAD': {'type': 'RECT', 'x': 4301.31, 'y': 3164.99, 'width': 7.874, 'height': 3.937, 'layer': 1, 'net': 'MK1_13', 'rot': 90.0, 'id': 'gge152'}}, {'PAD': {'type': 'RECT', 'x': 4309.18, 'y': 3164.99, 'width': 7.874, 'height': 3.937, 'layer': 1, 'net': 'MK1_14', 'rot': 90.0, 'id': 'gge155'}}, {'PAD': {'type': 'RECT', 'x': 4321.0, 'y': 3157.12, 'width': 7.874, 'height': 3.937, 'layer': 1, 'net': 'U1_1', 'rot': 180.0, 'id': 'gge158'}}, {'PAD': {'type': 'RECT', 'x': 4320.99, 'y': 3149.24, 'width': 7.874, 'height': 3.937, 'layer': 1, 'net': 'MK1_16', 'rot': 180.0, 'id': 'gge161'}}, {'PAD': {'type': 'RECT', 'x': 4321.0, 'y': 3141.37, 'width': 7.874, 'height': 3.937, 'layer': 1, 'net': 'P7_6', 'rot': 180.0, 'id': 'gge164'}}, {'PAD': {'type': 'RECT', 'x': 4321.0, 'y': 3133.5, 'width': 7.874, 'height': 3.937, 'layer': 1, 'net': 'P7_5', 'rot': 180.0, 'id': 'gge167'}}, {'PAD': {'type': 'RECT', 'x': 4320.99, 'y': 3125.62, 'width': 7.874, 'height': 3.937, 'layer': 1, 'net': 'MK1_19', 'rot': 180.0, 'id': 'gge170'}}, {'PAD': {'type': 'RECT', 'x': 4321.0, 'y': 3117.75, 'width': 7.874, 'height': 3.937, 'layer': 1, 'net': 'MK1_20', 'rot': 180.0, 'id': 'gge173'}}, {'PAD': {'type': 'RECT', 'x': 4321.0, 'y': 3109.87, 'width': 7.874, 'height': 3.937, 'layer': 1, 'net': 'P7_2', 'rot': 180.0, 'id': 'gge176'}}, {'PAD': {'type': 'RECT', 'x': 4321.0, 'y': 3102.0, 'width': 7.874, 'height': 3.937, 'layer': 1, 'net': 'MK1_22', 'rot': 180.0, 'id': 'gge179'}}]}, {'LIB': [{'TEXT': None}, {'ARC': None}, {'ARC': None}, {'ARC': None}, {'ARC': None}, {'ARC': None}, {'ARC': None}, {'TRACK': {'width': 1.0, 'layer': 3, 'net': '', 'points': [(4267.787, 3208.831), (4246.528, 3208.831), (4246.528, 3231.665), (4247.709, 3231.665), (4269.756, 3231.665), (4269.756, 3208.831), (4267.394, 3208.831)], 'id': 'gge240'}}, {'PAD': {'type': 'RECT', 'x': 4267.0, 'y': 3236.0, 'width': 6.0, 'height': 4.0, 'layer': 1, 'net': 'SW1_2', 'rot': 270.0, 'id': 'gge228'}}, {'PAD': {'type': 'RECT', 'x': 4267.0, 'y': 3204.5, 'width': 6.0, 'height': 4.0, 'layer': 1, 'net': '', 'rot': 270.0, 'id': 'gge231'}}, {'PAD': {'type': 'RECT', 'x': 4249.28, 'y': 3204.5, 'width': 6.0, 'height': 4.0, 'layer': 1, 'net': 'U1_1', 'rot': 270.0, 'id': 'gge234'}}, {'PAD': {'type': 'RECT', 'x': 4249.28, 'y': 3236.0, 'width': 6.0, 'height': 4.0, 'layer': 1, 'net': 'MK1_1', 'rot': 270.0, 'id': 'gge237'}}]}, {'LIB': [{'TEXT': None}, {'ARC': None}, {'TRACK': {'width': 1.0, 'layer': 3, 'net': '', 'points': [(4283.008, 3195.49), (4293.039, 3195.511)], 'id': 'gge252'}}, {'PAD': {'type': 'ELLIPSE', 'x': 4288.0, 'y': 3183.0, 'width': 6.5, 'height': 6.5, 'layer': 11, 'net': 'SW1_2', 'rot': 90.0, 'id': 'gge246'}}, {'PAD': {'type': 'ELLIPSE', 'x': 4288.0, 'y': 3193.0, 'width': 6.5, 'height': 6.5, 'layer': 11, 'net': 'P7_6', 'rot': 90.0, 'id': 'gge249'}}]}, {'LIB': [{'TEXT': None}, {'PAD': {'type': 'ELLIPSE', 'x': 4226.0, 'y': 3162.0, 'width': 6.2, 'height': 6.2, 'layer': 11, 'net': '', 'rot': 270.0, 'id': 'gge257'}}, {'PAD': {'type': 'ELLIPSE', 'x': 4216.0, 'y': 3162.0, 'width': 6.2, 'height': 6.2, 'layer': 11, 'net': '', 'rot': 270.0, 'id': 'gge260'}}, {'PAD': {'type': 'ELLIPSE', 'x': 4226.0, 'y': 3152.0, 'width': 6.2, 'height': 6.2, 'layer': 11, 'net': '', 'rot': 270.0, 'id': 'gge263'}}, {'PAD': {'type': 'ELLIPSE', 'x': 4216.0, 'y': 3152.0, 'width': 6.2, 'height': 6.2, 'layer': 11, 'net': '', 'rot': 270.0, 'id': 'gge266'}}, {'PAD': {'type': 'ELLIPSE', 'x': 4226.0, 'y': 3142.0, 'width': 6.2, 'height': 6.2, 'layer': 11, 'net': '', 'rot': 270.0, 'id': 'gge269'}}, {'PAD': {'type': 'RECT', 'x': 4216.0, 'y': 3142.0, 'width': 6.2, 'height': 6.2, 'layer': 11, 'net': '', 'rot': 270.0, 'id': 'gge272'}}, {'TRACK': {'width': 0.8, 'layer': 3, 'net': '', 'points': [(4211.0, 3167.0), (4231.0, 3167.0), (4231.0, 3137.0), (4211.0, 3137.0), (4211.0, 3167.0), (4211.0, 3147.833)], 'id': 'gge275'}}]}, {'LIB': [{'TEXT': None}, {'PAD': {'type': 'ELLIPSE', 'x': 4335.0, 'y': 3165.0, 'width': 6.2, 'height': 6.2, 'layer': 11, 'net': 'MK1_12', 'rot': 270.0, 'id': 'gge280'}}, {'PAD': {'type': 'ELLIPSE', 'x': 4335.0, 'y': 3155.0, 'width': 6.2, 'height': 6.2, 'layer': 11, 'net': 'MK1_13', 'rot': 270.0, 'id': 'gge283'}}, {'PAD': {'type': 'ELLIPSE', 'x': 4335.0, 'y': 3145.0, 'width': 6.2, 'height': 6.2, 'layer': 11, 'net': 'MK1_14', 'rot': 270.0, 'id': 'gge286'}}, {'PAD': {'type': 'ELLIPSE', 'x': 4335.0, 'y': 3135.0, 'width': 6.2, 'height': 6.2, 'layer': 11, 'net': 'MK1_16', 'rot': 270.0, 'id': 'gge289'}}, {'PAD': {'type': 'ELLIPSE', 'x': 4335.0, 'y': 3125.0, 'width': 6.2, 'height': 6.2, 'layer': 11, 'net': 'P7_6', 'rot': 270.0, 'id': 'gge292'}}, {'PAD': {'type': 'ELLIPSE', 'x': 4335.0, 'y': 3115.0, 'width': 6.2, 'height': 6.2, 'layer': 11, 'net': 'P7_5', 'rot': 270.0, 'id': 'gge295'}}, {'PAD': {'type': 'ELLIPSE', 'x': 4335.0, 'y': 3105.0, 'width': 6.2, 'height': 6.2, 'layer': 11, 'net': 'MK1_19', 'rot': 270.0, 'id': 'gge298'}}, {'PAD': {'type': 'ELLIPSE', 'x': 4335.0, 'y': 3095.0, 'width': 6.2, 'height': 6.2, 'layer': 11, 'net': 'MK1_20', 'rot': 270.0, 'id': 'gge301'}}, {'PAD': {'type': 'ELLIPSE', 'x': 4335.0, 'y': 3085.0, 'width': 6.2, 'height': 6.2, 'layer': 11, 'net': 'P7_2', 'rot': 270.0, 'id': 'gge304'}}, {'PAD': {'type': 'RECT', 'x': 4335.0, 'y': 3075.0, 'width': 6.2, 'height': 6.2, 'layer': 11, 'net': 'MK1_22', 'rot': 270.0, 'id': 'gge307'}}, {'TRACK': {'width': 0.8, 'layer': 3, 'net': '', 'points': [(4340.0, 3077.5), (4340.0, 3070.0), (4330.0, 3070.0), (4330.0, 3170.0), (4340.0, 3170.0)], 'id': 'gge310'}}, {'TRACK': {'width': 0.79921, 'layer': 3, 'net': '', 'points': [(4340.0, 3170.0), (4340.0, 3077.5)], 'id': 'gge311'}}]}, {'LIB': [{'TEXT': None}, {'TRACK': {'width': 0.8, 'layer': 3, 'net': '', 'points': [(4250.0, 3077.5), (4250.0, 3070.0), (4240.0, 3070.0), (4240.0, 3170.0), (4250.0, 3170.0)], 'id': 'gge346'}}, {'TRACK': {'width': 0.79921, 'layer': 3, 'net': '', 'points': [(4250.0, 3170.0), (4250.0, 3077.5)], 'id': 'gge347'}}, {'PAD': {'type': 'ELLIPSE', 'x': 4245.0, 'y': 3165.0, 'width': 6.2, 'height': 6.2, 'layer': 11, 'net': 'MK1_1', 'rot': 270.0, 'id': 'gge316'}}, {'PAD': {'type': 'ELLIPSE', 'x': 4245.0, 'y': 3155.0, 'width': 6.2, 'height': 6.2, 'layer': 11, 'net': 'P8_9', 'rot': 270.0, 'id': 'gge319'}}, {'PAD': {'type': 'ELLIPSE', 'x': 4245.0, 'y': 3145.0, 'width': 6.2, 'height': 6.2, 'layer': 11, 'net': 'SW1_2', 'rot': 270.0, 'id': 'gge322'}}, {'PAD': {'type': 'ELLIPSE', 'x': 4245.0, 'y': 3135.0, 'width': 6.2, 'height': 6.2, 'layer': 11, 'net': 'P8_7', 'rot': 270.0, 'id': 'gge325'}}, {'PAD': {'type': 'ELLIPSE', 'x': 4245.0, 'y': 3125.0, 'width': 6.2, 'height': 6.2, 'layer': 11, 'net': 'P8_6', 'rot': 270.0, 'id': 'gge328'}}, {'PAD': {'type': 'ELLIPSE', 'x': 4245.0, 'y': 3115.0, 'width': 6.2, 'height': 6.2, 'layer': 11, 'net': 'P8_5', 'rot': 270.0, 'id': 'gge331'}}, {'PAD': {'type': 'ELLIPSE', 'x': 4245.0, 'y': 3105.0, 'width': 6.2, 'height': 6.2, 'layer': 11, 'net': 'P8_4', 'rot': 270.0, 'id': 'gge334'}}, {'PAD': {'type': 'ELLIPSE', 'x': 4245.0, 'y': 3095.0, 'width': 6.2, 'height': 6.2, 'layer': 11, 'net': 'P8_3', 'rot': 270.0, 'id': 'gge337'}}, {'PAD': {'type': 'ELLIPSE', 'x': 4245.0, 'y': 3085.0, 'width': 6.2, 'height': 6.2, 'layer': 11, 'net': 'P8_2', 'rot': 270.0, 'id': 'gge340'}}, {'PAD': {'type': 'RECT', 'x': 4245.0, 'y': 3075.0, 'width': 6.2, 'height': 6.2, 'layer': 11, 'net': 'MK1_11', 'rot': 270.0, 'id': 'gge343'}}]}, {'LIB': [{'TEXT': None}, {'TRACK': {'width': 1.0, 'layer': 3, 'net': '', 'points': [(4234.9, 3201.0), (4234.9, 3215.0)], 'id': 'gge352'}}, {'TRACK': {'width': 1.0, 'layer': 3, 'net': '', 'points': [(4234.9, 3215.0), (4209.1, 3215.0)], 'id': 'gge353'}}, {'TRACK': {'width': 1.0, 'layer': 3, 'net': '', 'points': [(4209.1, 3215.0), (4209.1, 3201.0)], 'id': 'gge354'}}, {'TRACK': {'width': 1.0, 'layer': 3, 'net': '', 'points': [(4209.1, 3201.0), (4234.9, 3201.0)], 'id': 'gge355'}}, {'PAD': {'type': 'RECT', 'x': 4212.9, 'y': 3220.4, 'width': 5.91, 'height': 7.87, 'layer': 1, 'net': 'U1_1', 'rot': 0.0, 'id': 'gge356'}}, {'PAD': {'type': 'RECT', 'x': 4222.0, 'y': 3220.4, 'width': 5.91, 'height': 7.87, 'layer': 1, 'net': 'SW1_2', 'rot': 0.0, 'id': 'gge359'}}, {'PAD': {'type': 'RECT', 'x': 4231.1, 'y': 3220.4, 'width': 5.91, 'height': 7.87, 'layer': 1, 'net': 'U1_3', 'rot': 0.0, 'id': 'gge362'}}, {'PAD': {'type': 'RECT', 'x': 4222.0, 'y': 3195.6, 'width': 14.96, 'height': 7.87, 'layer': 1, 'net': '', 'rot': 0.0, 'id': 'gge365'}}]}, {'LIB': [{'TEXT': None}, {'TRACK': {'width': 1.0, 'layer': 3, 'net': '', 'points': [(4158.9, 3183.0), (4158.9, 3197.0)], 'id': 'gge372'}}, {'TRACK': {'width': 1.0, 'layer': 3, 'net': '', 'points': [(4158.9, 3197.0), (4133.1, 3197.0)], 'id': 'gge373'}}, {'TRACK': {'width': 1.0, 'layer': 3, 'net': '', 'points': [(4133.1, 3197.0), (4133.1, 3183.0)], 'id': 'gge374'}}, {'TRACK': {'width': 1.0, 'layer': 3, 'net': '', 'points': [(4133.1, 3183.0), (4158.9, 3183.0)], 'id': 'gge375'}}, {'PAD': {'type': 'RECT', 'x': 4136.9, 'y': 3202.4, 'width': 5.91, 'height': 7.87, 'layer': 1, 'net': 'U2_1', 'rot': 0.0, 'id': 'gge376'}}, {'PAD': {'type': 'RECT', 'x': 4146.0, 'y': 3202.4, 'width': 5.91, 'height': 7.87, 'layer': 1, 'net': 'SW1_2', 'rot': 0.0, 'id': 'gge379'}}, {'PAD': {'type': 'RECT', 'x': 4155.1, 'y': 3202.4, 'width': 5.91, 'height': 7.87, 'layer': 1, 'net': 'P1_VCC', 'rot': 0.0, 'id': 'gge382'}}, {'PAD': {'type': 'RECT', 'x': 4146.0, 'y': 3177.6, 'width': 14.96, 'height': 7.87, 'layer': 1, 'net': '', 'rot': 0.0, 'id': 'gge385'}}]}, {'LIB': [{'TEXT': None}, {'PAD': {'type': 'RECT', 'x': 4072.0, 'y': 3196.0, 'width': 6.2, 'height': 6.2, 'layer': 11, 'net': 'P9_1', 'rot': 270.0, 'id': 'gge392'}}, {'PAD': {'type': 'ELLIPSE', 'x': 4082.0, 'y': 3196.0, 'width': 6.2, 'height': 6.2, 'layer': 11, 'net': 'SW1_2', 'rot': 270.0, 'id': 'gge395'}}, {'PAD': {'type': 'ELLIPSE', 'x': 4072.0, 'y': 3206.0, 'width': 6.2, 'height': 6.2, 'layer': 11, 'net': 'P9_3', 'rot': 270.0, 'id': 'gge398'}}, {'PAD': {'type': 'ELLIPSE', 'x': 4082.0, 'y': 3206.0, 'width': 6.2, 'height': 6.2, 'layer': 11, 'net': 'P9_4', 'rot': 270.0, 'id': 'gge401'}}, {'PAD': {'type': 'ELLIPSE', 'x': 4072.0, 'y': 3216.0, 'width': 6.2, 'height': 6.2, 'layer': 11, 'net': 'P9_5', 'rot': 270.0, 'id': 'gge404'}}, {'PAD': {'type': 'ELLIPSE', 'x': 4082.0, 'y': 3216.0, 'width': 6.2, 'height': 6.2, 'layer': 11, 'net': 'SW1_2', 'rot': 270.0, 'id': 'gge407'}}, {'PAD': {'type': 'ELLIPSE', 'x': 4072.0, 'y': 3226.0, 'width': 6.2, 'height': 6.2, 'layer': 11, 'net': 'U2_1', 'rot': 270.0, 'id': 'gge410'}}, {'PAD': {'type': 'ELLIPSE', 'x': 4082.0, 'y': 3226.0, 'width': 6.2, 'height': 6.2, 'layer': 11, 'net': 'P9_8', 'rot': 270.0, 'id': 'gge413'}}, {'TRACK': {'width': 0.8, 'layer': 3, 'net': '', 'points': [(4087.0, 3191.0), (4067.0, 3191.0), (4067.0, 3231.0), (4087.0, 3231.0), (4087.0, 3191.0)], 'id': 'gge416'}}]}, {'LIB': [{'TEXT': None}, {'TRACK': {'width': 1.0, 'layer': 3, 'net': '', 'points': [(4071.0, 3157.0), (4083.0, 3157.0)], 'id': 'gge463'}}, {'TRACK': {'width': 1.0, 'layer': 3, 'net': '', 'points': [(4071.0, 3167.0), (4083.0, 3167.0)], 'id': 'gge464'}}, {'TRACK': {'width': 1.0, 'layer': 3, 'net': '', 'points': [(4069.0, 3144.0), (4098.0, 3144.0), (4098.0, 3180.0), (4065.0, 3180.0), (4065.0, 3148.0), (4069.0, 3144.0)], 'id': 'gge465'}}, {'PAD': {'type': 'RECT', 'x': 4072.0, 'y': 3150.0, 'width': 6.2992, 'height': 6.2992, 'layer': 11, 'net': '', 'rot': 0.0, 'id': 'gge466'}}, {'PAD': {'type': 'ELLIPSE', 'x': 4081.84, 'y': 3150.0, 'width': 6.2992, 'height': 6.2992, 'layer': 11, 'net': '', 'rot': 0.0, 'id': 'gge469'}}, {'PAD': {'type': 'ELLIPSE', 'x': 4091.69, 'y': 3150.0, 'width': 6.2992, 'height': 6.2992, 'layer': 11, 'net': '', 'rot': 0.0, 'id': 'gge472'}}, {'PAD': {'type': 'ELLIPSE', 'x': 4091.68, 'y': 3173.62, 'width': 6.2992, 'height': 6.2992, 'layer': 11, 'net': '', 'rot': 0.0, 'id': 'gge475'}}, {'PAD': {'type': 'ELLIPSE', 'x': 4081.85, 'y': 3173.62, 'width': 6.2992, 'height': 6.2992, 'layer': 11, 'net': '', 'rot': 0.0, 'id': 'gge478'}}, {'PAD': {'type': 'ELLIPSE', 'x': 4072.0, 'y': 3173.62, 'width': 6.2992, 'height': 6.2992, 'layer': 11, 'net': '', 'rot': 0.0, 'id': 'gge481'}}]}, {'LIB': [{'TEXT': None}, {'TRACK': {'width': 1.0, 'layer': 3, 'net': '', 'points': [(4313.0, 3213.0), (4325.0, 3213.0)], 'id': 'gge488'}}, {'TRACK': {'width': 1.0, 'layer': 3, 'net': '', 'points': [(4313.0, 3223.0), (4325.0, 3223.0)], 'id': 'gge489'}}, {'TRACK': {'width': 1.0, 'layer': 3, 'net': '', 'points': [(4311.0, 3200.0), (4340.0, 3200.0), (4340.0, 3236.0), (4307.0, 3236.0), (4307.0, 3204.0), (4311.0, 3200.0)], 'id': 'gge490'}}, {'PAD': {'type': 'RECT', 'x': 4314.0, 'y': 3206.0, 'width': 6.2992, 'height': 6.2992, 'layer': 11, 'net': 'SW1_2', 'rot': 0.0, 'id': 'gge491'}}, {'PAD': {'type': 'ELLIPSE', 'x': 4323.84, 'y': 3206.0, 'width': 6.2992, 'height': 6.2992, 'layer': 11, 'net': 'P7_5', 'rot': 0.0, 'id': 'gge494'}}, {'PAD': {'type': 'ELLIPSE', 'x': 4333.69, 'y': 3206.0, 'width': 6.2992, 'height': 6.2992, 'layer': 11, 'net': 'U1_1', 'rot': 0.0, 'id': 'gge497'}}, {'PAD': {'type': 'ELLIPSE', 'x': 4333.68, 'y': 3229.62, 'width': 6.2992, 'height': 6.2992, 'layer': 11, 'net': '', 'rot': 0.0, 'id': 'gge500'}}, {'PAD': {'type': 'ELLIPSE', 'x': 4323.85, 'y': 3229.62, 'width': 6.2992, 'height': 6.2992, 'layer': 11, 'net': '', 'rot': 0.0, 'id': 'gge503'}}, {'PAD': {'type': 'ELLIPSE', 'x': 4314.0, 'y': 3229.62, 'width': 6.2992, 'height': 6.2992, 'layer': 11, 'net': '', 'rot': 0.0, 'id': 'gge506'}}]}, {'VIA': {'x': 4250.35, 'y': 3099.95, 'diameter': '2.4', 'net': 'MK1_1', 'holeRadius': '0.6', 'id': 'gge605'}}, {'VIA': {'x': 4245.44, 'y': 3240.0, 'diameter': '2.4', 'net': 'MK1_1', 'holeRadius': '0.6', 'id': 'gge606'}}, {'VIA': {'x': 4237.0, 'y': 3222.0, 'diameter': '2.44', 'net': 'U1_3', 'holeRadius': '0.6', 'id': 'gge674'}}, {'VIA': {'x': 4130.0, 'y': 3201.0, 'diameter': '2.44', 'net': 'U2_1', 'holeRadius': '0.6', 'id': 'gge710'}}, {'VIA': {'x': 4110.0, 'y': 3232.0, 'diameter': '2.44', 'net': 'U2_1', 'holeRadius': '0.6', 'id': 'gge715'}}, {'VIA': {'x': 4299.0, 'y': 3217.0, 'diameter': '2.44', 'net': 'SW1_2', 'holeRadius': '0.6', 'id': 'gge746'}}]\n"
     ]
    }
   ],
   "source": [
    "print(testData[20])"
   ]
  },
  {
   "cell_type": "code",
   "execution_count": 24,
   "metadata": {
    "tags": []
   },
   "outputs": [
    {
     "output_type": "stream",
     "name": "stdout",
     "text": [
      "[{'pos': [4178.0, 3194.0], 'size': [6.2, 6.2], 'layer': 11, 'net': 'P1_VCC'}, {'pos': [4178.0, 3204.0], 'size': [6.2, 6.2], 'layer': 11, 'net': 'SW1_2'}, {'pos': [4178.0, 3214.0], 'size': [6.2, 6.2], 'layer': 11, 'net': 'P9_8'}, {'pos': [4178.0, 3224.0], 'size': [6.2, 6.2], 'layer': 11, 'net': ''}, {'pos': [4198.0, 3194.0], 'size': [6.2, 6.2], 'layer': 11, 'net': 'P1_VCC'}, {'pos': [4198.0, 3204.0], 'size': [6.2, 6.2], 'layer': 11, 'net': 'SW1_2'}, {'pos': [4198.0, 3214.0], 'size': [6.2, 6.2], 'layer': 11, 'net': 'MK1_22'}, {'pos': [4198.0, 3224.0], 'size': [6.2, 6.2], 'layer': 11, 'net': 'P7_2'}, {'pos': [4147.0, 3218.0], 'size': [6.5, 6.5], 'layer': 11, 'net': 'P9_5'}, {'pos': [4147.0, 3228.0], 'size': [6.5, 6.5], 'layer': 11, 'net': 'SW1_2'}, {'pos': [4123.0, 3232.0], 'size': [6.0, 4.0], 'layer': 1, 'net': ''}, {'pos': [4123.0, 3200.5], 'size': [6.0, 4.0], 'layer': 1, 'net': 'SW1_2'}, {'pos': [4105.28, 3200.5], 'size': [6.0, 4.0], 'layer': 1, 'net': 'P9_4'}, {'pos': [4105.28, 3232.0], 'size': [6.0, 4.0], 'layer': 1, 'net': 'U2_1'}, {'pos': [4258.0, 3102.0], 'size': [7.874, 3.937], 'layer': 1, 'net': 'MK1_1'}, {'pos': [4258.0, 3109.88], 'size': [7.874, 3.937], 'layer': 1, 'net': 'P8_9'}, {'pos': [4258.0, 3117.75], 'size': [7.874, 3.937], 'layer': 1, 'net': 'SW1_2'}, {'pos': [4258.0, 3125.62], 'size': [7.874, 3.937], 'layer': 1, 'net': 'P8_7'}, {'pos': [4258.0, 3133.5], 'size': [7.874, 3.937], 'layer': 1, 'net': 'P8_6'}, {'pos': [4258.0, 3141.37], 'size': [7.874, 3.937], 'layer': 1, 'net': 'P8_5'}, {'pos': [4258.0, 3149.24], 'size': [7.874, 3.937], 'layer': 1, 'net': 'P8_4'}, {'pos': [4258.0, 3157.12], 'size': [7.874, 3.937], 'layer': 1, 'net': 'SW1_2'}, {'pos': [4269.82, 3164.99], 'size': [7.874, 3.937], 'layer': 1, 'net': 'P8_3'}, {'pos': [4277.69, 3164.99], 'size': [7.874, 3.937], 'layer': 1, 'net': 'P8_2'}, {'pos': [4285.56, 3164.99], 'size': [7.874, 3.937], 'layer': 1, 'net': 'MK1_11'}, {'pos': [4293.44, 3164.99], 'size': [7.874, 3.937], 'layer': 1, 'net': 'MK1_12'}, {'pos': [4301.31, 3164.99], 'size': [7.874, 3.937], 'layer': 1, 'net': 'MK1_13'}, {'pos': [4309.18, 3164.99], 'size': [7.874, 3.937], 'layer': 1, 'net': 'MK1_14'}, {'pos': [4321.0, 3157.12], 'size': [7.874, 3.937], 'layer': 1, 'net': 'U1_1'}, {'pos': [4320.99, 3149.24], 'size': [7.874, 3.937], 'layer': 1, 'net': 'MK1_16'}, {'pos': [4321.0, 3141.37], 'size': [7.874, 3.937], 'layer': 1, 'net': 'P7_6'}, {'pos': [4321.0, 3133.5], 'size': [7.874, 3.937], 'layer': 1, 'net': 'P7_5'}, {'pos': [4320.99, 3125.62], 'size': [7.874, 3.937], 'layer': 1, 'net': 'MK1_19'}, {'pos': [4321.0, 3117.75], 'size': [7.874, 3.937], 'layer': 1, 'net': 'MK1_20'}, {'pos': [4321.0, 3109.87], 'size': [7.874, 3.937], 'layer': 1, 'net': 'P7_2'}, {'pos': [4321.0, 3102.0], 'size': [7.874, 3.937], 'layer': 1, 'net': 'MK1_22'}, {'pos': [4267.0, 3236.0], 'size': [6.0, 4.0], 'layer': 1, 'net': 'SW1_2'}, {'pos': [4267.0, 3204.5], 'size': [6.0, 4.0], 'layer': 1, 'net': ''}, {'pos': [4249.28, 3204.5], 'size': [6.0, 4.0], 'layer': 1, 'net': 'U1_1'}, {'pos': [4249.28, 3236.0], 'size': [6.0, 4.0], 'layer': 1, 'net': 'MK1_1'}, {'pos': [4288.0, 3183.0], 'size': [6.5, 6.5], 'layer': 11, 'net': 'SW1_2'}, {'pos': [4288.0, 3193.0], 'size': [6.5, 6.5], 'layer': 11, 'net': 'P7_6'}, {'pos': [4226.0, 3162.0], 'size': [6.2, 6.2], 'layer': 11, 'net': ''}, {'pos': [4216.0, 3162.0], 'size': [6.2, 6.2], 'layer': 11, 'net': ''}, {'pos': [4226.0, 3152.0], 'size': [6.2, 6.2], 'layer': 11, 'net': ''}, {'pos': [4216.0, 3152.0], 'size': [6.2, 6.2], 'layer': 11, 'net': ''}, {'pos': [4226.0, 3142.0], 'size': [6.2, 6.2], 'layer': 11, 'net': ''}, {'pos': [4216.0, 3142.0], 'size': [6.2, 6.2], 'layer': 11, 'net': ''}, {'pos': [4335.0, 3165.0], 'size': [6.2, 6.2], 'layer': 11, 'net': 'MK1_12'}, {'pos': [4335.0, 3155.0], 'size': [6.2, 6.2], 'layer': 11, 'net': 'MK1_13'}, {'pos': [4335.0, 3145.0], 'size': [6.2, 6.2], 'layer': 11, 'net': 'MK1_14'}, {'pos': [4335.0, 3135.0], 'size': [6.2, 6.2], 'layer': 11, 'net': 'MK1_16'}, {'pos': [4335.0, 3125.0], 'size': [6.2, 6.2], 'layer': 11, 'net': 'P7_6'}, {'pos': [4335.0, 3115.0], 'size': [6.2, 6.2], 'layer': 11, 'net': 'P7_5'}, {'pos': [4335.0, 3105.0], 'size': [6.2, 6.2], 'layer': 11, 'net': 'MK1_19'}, {'pos': [4335.0, 3095.0], 'size': [6.2, 6.2], 'layer': 11, 'net': 'MK1_20'}, {'pos': [4335.0, 3085.0], 'size': [6.2, 6.2], 'layer': 11, 'net': 'P7_2'}, {'pos': [4335.0, 3075.0], 'size': [6.2, 6.2], 'layer': 11, 'net': 'MK1_22'}, {'pos': [4245.0, 3165.0], 'size': [6.2, 6.2], 'layer': 11, 'net': 'MK1_1'}, {'pos': [4245.0, 3155.0], 'size': [6.2, 6.2], 'layer': 11, 'net': 'P8_9'}, {'pos': [4245.0, 3145.0], 'size': [6.2, 6.2], 'layer': 11, 'net': 'SW1_2'}, {'pos': [4245.0, 3135.0], 'size': [6.2, 6.2], 'layer': 11, 'net': 'P8_7'}, {'pos': [4245.0, 3125.0], 'size': [6.2, 6.2], 'layer': 11, 'net': 'P8_6'}, {'pos': [4245.0, 3115.0], 'size': [6.2, 6.2], 'layer': 11, 'net': 'P8_5'}, {'pos': [4245.0, 3105.0], 'size': [6.2, 6.2], 'layer': 11, 'net': 'P8_4'}, {'pos': [4245.0, 3095.0], 'size': [6.2, 6.2], 'layer': 11, 'net': 'P8_3'}, {'pos': [4245.0, 3085.0], 'size': [6.2, 6.2], 'layer': 11, 'net': 'P8_2'}, {'pos': [4245.0, 3075.0], 'size': [6.2, 6.2], 'layer': 11, 'net': 'MK1_11'}, {'pos': [4212.9, 3220.4], 'size': [5.91, 7.87], 'layer': 1, 'net': 'U1_1'}, {'pos': [4222.0, 3220.4], 'size': [5.91, 7.87], 'layer': 1, 'net': 'SW1_2'}, {'pos': [4231.1, 3220.4], 'size': [5.91, 7.87], 'layer': 1, 'net': 'U1_3'}, {'pos': [4222.0, 3195.6], 'size': [14.96, 7.87], 'layer': 1, 'net': ''}, {'pos': [4136.9, 3202.4], 'size': [5.91, 7.87], 'layer': 1, 'net': 'U2_1'}, {'pos': [4146.0, 3202.4], 'size': [5.91, 7.87], 'layer': 1, 'net': 'SW1_2'}, {'pos': [4155.1, 3202.4], 'size': [5.91, 7.87], 'layer': 1, 'net': 'P1_VCC'}, {'pos': [4146.0, 3177.6], 'size': [14.96, 7.87], 'layer': 1, 'net': ''}, {'pos': [4072.0, 3196.0], 'size': [6.2, 6.2], 'layer': 11, 'net': 'P9_1'}, {'pos': [4082.0, 3196.0], 'size': [6.2, 6.2], 'layer': 11, 'net': 'SW1_2'}, {'pos': [4072.0, 3206.0], 'size': [6.2, 6.2], 'layer': 11, 'net': 'P9_3'}, {'pos': [4082.0, 3206.0], 'size': [6.2, 6.2], 'layer': 11, 'net': 'P9_4'}, {'pos': [4072.0, 3216.0], 'size': [6.2, 6.2], 'layer': 11, 'net': 'P9_5'}, {'pos': [4082.0, 3216.0], 'size': [6.2, 6.2], 'layer': 11, 'net': 'SW1_2'}, {'pos': [4072.0, 3226.0], 'size': [6.2, 6.2], 'layer': 11, 'net': 'U2_1'}, {'pos': [4082.0, 3226.0], 'size': [6.2, 6.2], 'layer': 11, 'net': 'P9_8'}, {'pos': [4072.0, 3150.0], 'size': [6.2992, 6.2992], 'layer': 11, 'net': ''}, {'pos': [4081.84, 3150.0], 'size': [6.2992, 6.2992], 'layer': 11, 'net': ''}, {'pos': [4091.69, 3150.0], 'size': [6.2992, 6.2992], 'layer': 11, 'net': ''}, {'pos': [4091.68, 3173.62], 'size': [6.2992, 6.2992], 'layer': 11, 'net': ''}, {'pos': [4081.85, 3173.62], 'size': [6.2992, 6.2992], 'layer': 11, 'net': ''}, {'pos': [4072.0, 3173.62], 'size': [6.2992, 6.2992], 'layer': 11, 'net': ''}, {'pos': [4314.0, 3206.0], 'size': [6.2992, 6.2992], 'layer': 11, 'net': 'SW1_2'}, {'pos': [4323.84, 3206.0], 'size': [6.2992, 6.2992], 'layer': 11, 'net': 'P7_5'}, {'pos': [4333.69, 3206.0], 'size': [6.2992, 6.2992], 'layer': 11, 'net': 'U1_1'}, {'pos': [4333.68, 3229.62], 'size': [6.2992, 6.2992], 'layer': 11, 'net': ''}, {'pos': [4323.85, 3229.62], 'size': [6.2992, 6.2992], 'layer': 11, 'net': ''}, {'pos': [4314.0, 3229.62], 'size': [6.2992, 6.2992], 'layer': 11, 'net': ''}]\n"
     ]
    }
   ],
   "source": [
    "print(extractPads(testData[20]))"
   ]
  },
  {
   "cell_type": "code",
   "execution_count": 25,
   "metadata": {
    "tags": []
   },
   "outputs": [
    {
     "output_type": "error",
     "ename": "IndexError",
     "evalue": "list index out of range",
     "traceback": [
      "\u001b[0;31m---------------------------------------------------------------------------\u001b[0m",
      "\u001b[0;31mIndexError\u001b[0m                                Traceback (most recent call last)",
      "\u001b[0;32m<ipython-input-25-58f320502628>\u001b[0m in \u001b[0;36m<module>\u001b[0;34m\u001b[0m\n\u001b[0;32m----> 1\u001b[0;31m \u001b[0mprint\u001b[0m\u001b[0;34m(\u001b[0m\u001b[0mextractRouteElements\u001b[0m\u001b[0;34m(\u001b[0m\u001b[0mtestData\u001b[0m\u001b[0;34m)\u001b[0m\u001b[0;34m[\u001b[0m\u001b[0;36m1\u001b[0m\u001b[0;34m]\u001b[0m\u001b[0;34m)\u001b[0m\u001b[0;34m\u001b[0m\u001b[0;34m\u001b[0m\u001b[0m\n\u001b[0m",
      "\u001b[0;31mIndexError\u001b[0m: list index out of range"
     ]
    }
   ],
   "source": [
    "print(extractRouteElements(testData)[1])"
   ]
  },
  {
   "cell_type": "code",
   "execution_count": 37,
   "metadata": {},
   "outputs": [
    {
     "output_type": "stream",
     "name": "stdout",
     "text": [
      "13124\n"
     ]
    }
   ],
   "source": [
    "data = seqGetDataFromFile(\"./model data/trainPads.data\")\n",
    "\n",
    "encoder_input_data_pos= []\n",
    "encoder_input_data_size= []\n",
    "encoder_input_data_layer= []\n",
    "encoder_input_data_net= []\n",
    "\n",
    "def elements(pcb, key):\n",
    "    return [element[key] for element in pcb]\n",
    "\n",
    "max_dim = 0\n",
    "max_pcb = None\n",
    "#Fill arrays\n",
    "for pcb in data:\n",
    "    encoder_input_data_pos.append(elements(pcb,'pos'))\n",
    "    encoder_input_data_size.append(elements(pcb,'size'))\n",
    "    encoder_input_data_layer.append(elements(pcb,'layer'))\n",
    "    encoder_input_data_net.append(elements(pcb,'net'))\n",
    "\n",
    "    if len(pcb) > max_dim:\n",
    "        max_dim = len(pcb)\n",
    "        max_pcb = pcb\n",
    "print(max_dim)"
   ]
  },
  {
   "cell_type": "code",
   "execution_count": 35,
   "metadata": {
    "tags": []
   },
   "outputs": [
    {
     "output_type": "stream",
     "name": "stdout",
     "text": [
      "{1, 2, 11}\n"
     ]
    }
   ],
   "source": [
    "layers_seen = set()\n",
    "for layers in encoder_input_data_layer:\n",
    "    layers_seen = layers_seen.union(set(layers))\n",
    "\n",
    "print(layers_seen)"
   ]
  },
  {
   "cell_type": "code",
   "execution_count": 36,
   "metadata": {},
   "outputs": [
    {
     "output_type": "stream",
     "name": "stdout",
     "text": [
      "13124\n"
     ]
    }
   ],
   "source": [
    "print(max_dim)"
   ]
  },
  {
   "cell_type": "code",
   "execution_count": 38,
   "metadata": {
    "tags": [
     "outputPrepend"
    ]
   },
   "outputs": [
    {
     "output_type": "stream",
     "name": "stdout",
     "text": [
      " 'size': [7.874, 7.874], 'layer': 11, 'net': ''}, {'pos': [5550.0, 3200.0], 'size': [7.874, 7.874], 'layer': 11, 'net': ''}, {'pos': [5550.0, 3190.0], 'size': [7.874, 7.874], 'layer': 11, 'net': ''}, {'pos': [5550.0, 3180.0], 'size': [7.874, 7.874], 'layer': 11, 'net': ''}, {'pos': [5520.0, 3140.0], 'size': [7.874, 7.874], 'layer': 11, 'net': ''}, {'pos': [5520.0, 3150.0], 'size': [7.874, 7.874], 'layer': 11, 'net': ''}, {'pos': [5520.0, 3160.0], 'size': [7.874, 7.874], 'layer': 11, 'net': ''}, {'pos': [5520.0, 3170.0], 'size': [7.874, 7.874], 'layer': 11, 'net': ''}, {'pos': [5530.0, 3170.0], 'size': [7.874, 7.874], 'layer': 11, 'net': ''}, {'pos': [5530.0, 3160.0], 'size': [7.874, 7.874], 'layer': 11, 'net': ''}, {'pos': [5530.0, 3150.0], 'size': [7.874, 7.874], 'layer': 11, 'net': ''}, {'pos': [5530.0, 3140.0], 'size': [7.874, 7.874], 'layer': 11, 'net': ''}, {'pos': [5540.0, 3170.0], 'size': [7.874, 7.874], 'layer': 11, 'net': ''}, {'pos': [5540.0, 3160.0], 'size': [7.874, 7.874], 'layer': 11, 'net': ''}, {'pos': [5540.0, 3150.0], 'size': [7.874, 7.874], 'layer': 11, 'net': ''}, {'pos': [5540.0, 3140.0], 'size': [7.874, 7.874], 'layer': 11, 'net': ''}, {'pos': [5570.0, 3140.0], 'size': [7.874, 7.874], 'layer': 11, 'net': ''}, {'pos': [5570.0, 3150.0], 'size': [7.874, 7.874], 'layer': 11, 'net': ''}, {'pos': [5570.0, 3160.0], 'size': [7.874, 7.874], 'layer': 11, 'net': ''}, {'pos': [5570.0, 3170.0], 'size': [7.874, 7.874], 'layer': 11, 'net': ''}, {'pos': [5560.0, 3140.0], 'size': [7.874, 7.874], 'layer': 11, 'net': ''}, {'pos': [5560.0, 3150.0], 'size': [7.874, 7.874], 'layer': 11, 'net': ''}, {'pos': [5560.0, 3160.0], 'size': [7.874, 7.874], 'layer': 11, 'net': ''}, {'pos': [5560.0, 3170.0], 'size': [7.874, 7.874], 'layer': 11, 'net': ''}, {'pos': [5550.0, 3170.0], 'size': [7.874, 7.874], 'layer': 11, 'net': ''}, {'pos': [5550.0, 3160.0], 'size': [7.874, 7.874], 'layer': 11, 'net': ''}, {'pos': [5550.0, 3150.0], 'size': [7.874, 7.874], 'layer': 11, 'net': ''}, {'pos': [5550.0, 3140.0], 'size': [7.874, 7.874], 'layer': 11, 'net': ''}, {'pos': [5520.0, 3100.0], 'size': [7.874, 7.874], 'layer': 11, 'net': ''}, {'pos': [5520.0, 3110.0], 'size': [7.874, 7.874], 'layer': 11, 'net': ''}, {'pos': [5520.0, 3120.0], 'size': [7.874, 7.874], 'layer': 11, 'net': ''}, {'pos': [5520.0, 3130.0], 'size': [7.874, 7.874], 'layer': 11, 'net': ''}, {'pos': [5530.0, 3130.0], 'size': [7.874, 7.874], 'layer': 11, 'net': ''}, {'pos': [5530.0, 3120.0], 'size': [7.874, 7.874], 'layer': 11, 'net': ''}, {'pos': [5530.0, 3110.0], 'size': [7.874, 7.874], 'layer': 11, 'net': ''}, {'pos': [5530.0, 3100.0], 'size': [7.874, 7.874], 'layer': 11, 'net': ''}, {'pos': [5540.0, 3130.0], 'size': [7.874, 7.874], 'layer': 11, 'net': ''}, {'pos': [5540.0, 3120.0], 'size': [7.874, 7.874], 'layer': 11, 'net': ''}, {'pos': [5540.0, 3110.0], 'size': [7.874, 7.874], 'layer': 11, 'net': ''}, {'pos': [5540.0, 3100.0], 'size': [7.874, 7.874], 'layer': 11, 'net': ''}, {'pos': [5570.0, 3100.0], 'size': [7.874, 7.874], 'layer': 11, 'net': ''}, {'pos': [5570.0, 3110.0], 'size': [7.874, 7.874], 'layer': 11, 'net': ''}, {'pos': [5570.0, 3120.0], 'size': [7.874, 7.874], 'layer': 11, 'net': ''}, {'pos': [5570.0, 3130.0], 'size': [7.874, 7.874], 'layer': 11, 'net': ''}, {'pos': [5560.0, 3100.0], 'size': [7.874, 7.874], 'layer': 11, 'net': ''}, {'pos': [5560.0, 3110.0], 'size': [7.874, 7.874], 'layer': 11, 'net': ''}, {'pos': [5560.0, 3120.0], 'size': [7.874, 7.874], 'layer': 11, 'net': ''}, {'pos': [5560.0, 3130.0], 'size': [7.874, 7.874], 'layer': 11, 'net': ''}, {'pos': [5550.0, 3130.0], 'size': [7.874, 7.874], 'layer': 11, 'net': ''}, {'pos': [5550.0, 3120.0], 'size': [7.874, 7.874], 'layer': 11, 'net': ''}, {'pos': [5550.0, 3110.0], 'size': [7.874, 7.874], 'layer': 11, 'net': ''}, {'pos': [5550.0, 3100.0], 'size': [7.874, 7.874], 'layer': 11, 'net': ''}, {'pos': [5520.0, 3060.0], 'size': [7.874, 7.874], 'layer': 11, 'net': ''}, {'pos': [5520.0, 3070.0], 'size': [7.874, 7.874], 'layer': 11, 'net': ''}, {'pos': [5520.0, 3080.0], 'size': [7.874, 7.874], 'layer': 11, 'net': ''}, {'pos': [5520.0, 3090.0], 'size': [7.874, 7.874], 'layer': 11, 'net': ''}, {'pos': [5530.0, 3090.0], 'size': [7.874, 7.874], 'layer': 11, 'net': ''}, {'pos': [5530.0, 3080.0], 'size': [7.874, 7.874], 'layer': 11, 'net': ''}, {'pos': [5530.0, 3070.0], 'size': [7.874, 7.874], 'layer': 11, 'net': ''}, {'pos': [5530.0, 3060.0], 'size': [7.874, 7.874], 'layer': 11, 'net': ''}, {'pos': [5540.0, 3090.0], 'size': [7.874, 7.874], 'layer': 11, 'net': ''}, {'pos': [5540.0, 3080.0], 'size': [7.874, 7.874], 'layer': 11, 'net': ''}, {'pos': [5540.0, 3070.0], 'size': [7.874, 7.874], 'layer': 11, 'net': ''}, {'pos': [5540.0, 3060.0], 'size': [7.874, 7.874], 'layer': 11, 'net': ''}, {'pos': [5570.0, 3060.0], 'size': [7.874, 7.874], 'layer': 11, 'net': ''}, {'pos': [5570.0, 3070.0], 'size': [7.874, 7.874], 'layer': 11, 'net': ''}, {'pos': [5570.0, 3080.0], 'size': [7.874, 7.874], 'layer': 11, 'net': ''}, {'pos': [5570.0, 3090.0], 'size': [7.874, 7.874], 'layer': 11, 'net': ''}, {'pos': [5560.0, 3060.0], 'size': [7.874, 7.874], 'layer': 11, 'net': ''}, {'pos': [5560.0, 3070.0], 'size': [7.874, 7.874], 'layer': 11, 'net': ''}, {'pos': [5560.0, 3080.0], 'size': [7.874, 7.874], 'layer': 11, 'net': ''}, {'pos': [5560.0, 3090.0], 'size': [7.874, 7.874], 'layer': 11, 'net': ''}, {'pos': [5550.0, 3090.0], 'size': [7.874, 7.874], 'layer': 11, 'net': ''}, {'pos': [5550.0, 3080.0], 'size': [7.874, 7.874], 'layer': 11, 'net': ''}, {'pos': [5550.0, 3070.0], 'size': [7.874, 7.874], 'layer': 11, 'net': ''}, {'pos': [5550.0, 3060.0], 'size': [7.874, 7.874], 'layer': 11, 'net': ''}, {'pos': [5550.0, 3020.0], 'size': [7.874, 7.874], 'layer': 11, 'net': ''}, {'pos': [5550.0, 3030.0], 'size': [7.874, 7.874], 'layer': 11, 'net': ''}, {'pos': [5550.0, 3040.0], 'size': [7.874, 7.874], 'layer': 11, 'net': ''}, {'pos': [5550.0, 3050.0], 'size': [7.874, 7.874], 'layer': 11, 'net': ''}, {'pos': [5560.0, 3050.0], 'size': [7.874, 7.874], 'layer': 11, 'net': ''}, {'pos': [5560.0, 3040.0], 'size': [7.874, 7.874], 'layer': 11, 'net': ''}, {'pos': [5560.0, 3030.0], 'size': [7.874, 7.874], 'layer': 11, 'net': ''}, {'pos': [5560.0, 3020.0], 'size': [7.874, 7.874], 'layer': 11, 'net': ''}, {'pos': [5570.0, 3050.0], 'size': [7.874, 7.874], 'layer': 11, 'net': ''}, {'pos': [5570.0, 3040.0], 'size': [7.874, 7.874], 'layer': 11, 'net': ''}, {'pos': [5570.0, 3030.0], 'size': [7.874, 7.874], 'layer': 11, 'net': ''}, {'pos': [5570.0, 3020.0], 'size': [7.874, 7.874], 'layer': 11, 'net': ''}, {'pos': [5540.0, 3020.0], 'size': [7.874, 7.874], 'layer': 11, 'net': ''}, {'pos': [5540.0, 3030.0], 'size': [7.874, 7.874], 'layer': 11, 'net': ''}, {'pos': [5540.0, 3040.0], 'size': [7.874, 7.874], 'layer': 11, 'net': ''}, {'pos': [5540.0, 3050.0], 'size': [7.874, 7.874], 'layer': 11, 'net': ''}, {'pos': [5530.0, 3020.0], 'size': [7.874, 7.874], 'layer': 11, 'net': ''}, {'pos': [5530.0, 3030.0], 'size': [7.874, 7.874], 'layer': 11, 'net': ''}, {'pos': [5530.0, 3040.0], 'size': [7.874, 7.874], 'layer': 11, 'net': ''}, {'pos': [5530.0, 3050.0], 'size': [7.874, 7.874], 'layer': 11, 'net': ''}, {'pos': [5520.0, 3050.0], 'size': [7.874, 7.874], 'layer': 11, 'net': ''}, {'pos': [5520.0, 3040.0], 'size': [7.874, 7.874], 'layer': 11, 'net': ''}, {'pos': [5520.0, 3030.0], 'size': [7.874, 7.874], 'layer': 11, 'net': ''}, {'pos': [5520.0, 3020.0], 'size': [7.874, 7.874], 'layer': 11, 'net': ''}, {'pos': [5590.0, 3020.0], 'size': [7.874, 7.874], 'layer': 11, 'net': ''}, {'pos': [5590.0, 3030.0], 'size': [7.874, 7.874], 'layer': 11, 'net': ''}, {'pos': [5590.0, 3040.0], 'size': [7.874, 7.874], 'layer': 11, 'net': ''}, {'pos': [5590.0, 3050.0], 'size': [7.874, 7.874], 'layer': 11, 'net': ''}, {'pos': [5580.0, 3020.0], 'size': [7.874, 7.874], 'layer': 11, 'net': ''}, {'pos': [5580.0, 3030.0], 'size': [7.874, 7.874], 'layer': 11, 'net': ''}, {'pos': [5580.0, 3040.0], 'size': [7.874, 7.874], 'layer': 11, 'net': ''}, {'pos': [5580.0, 3050.0], 'size': [7.874, 7.874], 'layer': 11, 'net': ''}, {'pos': [5580.0, 3090.0], 'size': [7.874, 7.874], 'layer': 11, 'net': ''}, {'pos': [5580.0, 3080.0], 'size': [7.874, 7.874], 'layer': 11, 'net': ''}, {'pos': [5580.0, 3070.0], 'size': [7.874, 7.874], 'layer': 11, 'net': ''}, {'pos': [5580.0, 3060.0], 'size': [7.874, 7.874], 'layer': 11, 'net': ''}, {'pos': [5590.0, 3090.0], 'size': [7.874, 7.874], 'layer': 11, 'net': ''}, {'pos': [5590.0, 3080.0], 'size': [7.874, 7.874], 'layer': 11, 'net': ''}, {'pos': [5590.0, 3070.0], 'size': [7.874, 7.874], 'layer': 11, 'net': ''}, {'pos': [5590.0, 3060.0], 'size': [7.874, 7.874], 'layer': 11, 'net': ''}, {'pos': [5580.0, 3130.0], 'size': [7.874, 7.874], 'layer': 11, 'net': ''}, {'pos': [5580.0, 3120.0], 'size': [7.874, 7.874], 'layer': 11, 'net': ''}, {'pos': [5580.0, 3110.0], 'size': [7.874, 7.874], 'layer': 11, 'net': ''}, {'pos': [5580.0, 3100.0], 'size': [7.874, 7.874], 'layer': 11, 'net': ''}, {'pos': [5590.0, 3130.0], 'size': [7.874, 7.874], 'layer': 11, 'net': ''}, {'pos': [5590.0, 3120.0], 'size': [7.874, 7.874], 'layer': 11, 'net': ''}, {'pos': [5590.0, 3110.0], 'size': [7.874, 7.874], 'layer': 11, 'net': ''}, {'pos': [5590.0, 3100.0], 'size': [7.874, 7.874], 'layer': 11, 'net': ''}, {'pos': [5580.0, 3170.0], 'size': [7.874, 7.874], 'layer': 11, 'net': ''}, {'pos': [5580.0, 3160.0], 'size': [7.874, 7.874], 'layer': 11, 'net': ''}, {'pos': [5580.0, 3150.0], 'size': [7.874, 7.874], 'layer': 11, 'net': ''}, {'pos': [5580.0, 3140.0], 'size': [7.874, 7.874], 'layer': 11, 'net': ''}, {'pos': [5590.0, 3170.0], 'size': [7.874, 7.874], 'layer': 11, 'net': ''}, {'pos': [5590.0, 3160.0], 'size': [7.874, 7.874], 'layer': 11, 'net': ''}, {'pos': [5590.0, 3150.0], 'size': [7.874, 7.874], 'layer': 11, 'net': ''}, {'pos': [5590.0, 3140.0], 'size': [7.874, 7.874], 'layer': 11, 'net': ''}, {'pos': [5580.0, 3210.0], 'size': [7.874, 7.874], 'layer': 11, 'net': ''}, {'pos': [5580.0, 3200.0], 'size': [7.874, 7.874], 'layer': 11, 'net': ''}, {'pos': [5580.0, 3190.0], 'size': [7.874, 7.874], 'layer': 11, 'net': ''}, {'pos': [5580.0, 3180.0], 'size': [7.874, 7.874], 'layer': 11, 'net': ''}, {'pos': [5590.0, 3210.0], 'size': [7.874, 7.874], 'layer': 11, 'net': ''}, {'pos': [5590.0, 3200.0], 'size': [7.874, 7.874], 'layer': 11, 'net': ''}, {'pos': [5590.0, 3190.0], 'size': [7.874, 7.874], 'layer': 11, 'net': ''}, {'pos': [5590.0, 3180.0], 'size': [7.874, 7.874], 'layer': 11, 'net': ''}, {'pos': [5580.0, 3230.0], 'size': [7.874, 7.874], 'layer': 11, 'net': ''}, {'pos': [5580.0, 3220.0], 'size': [7.874, 7.874], 'layer': 11, 'net': ''}, {'pos': [5590.0, 3230.0], 'size': [7.874, 7.874], 'layer': 11, 'net': ''}, {'pos': [5590.0, 3220.0], 'size': [7.874, 7.874], 'layer': 11, 'net': ''}, {'pos': [5580.0, 3250.0], 'size': [7.874, 7.874], 'layer': 11, 'net': ''}, {'pos': [5580.0, 3240.0], 'size': [7.874, 7.874], 'layer': 11, 'net': ''}, {'pos': [5590.0, 3250.0], 'size': [7.874, 7.874], 'layer': 11, 'net': ''}, {'pos': [5590.0, 3240.0], 'size': [7.874, 7.874], 'layer': 11, 'net': ''}, {'pos': [5580.0, 3290.0], 'size': [7.874, 7.874], 'layer': 11, 'net': ''}, {'pos': [5580.0, 3280.0], 'size': [7.874, 7.874], 'layer': 11, 'net': ''}, {'pos': [5580.0, 3270.0], 'size': [7.874, 7.874], 'layer': 11, 'net': ''}, {'pos': [5580.0, 3260.0], 'size': [7.874, 7.874], 'layer': 11, 'net': ''}, {'pos': [5590.0, 3290.0], 'size': [7.874, 7.874], 'layer': 11, 'net': ''}, {'pos': [5590.0, 3280.0], 'size': [7.874, 7.874], 'layer': 11, 'net': ''}, {'pos': [5590.0, 3270.0], 'size': [7.874, 7.874], 'layer': 11, 'net': ''}, {'pos': [5590.0, 3260.0], 'size': [7.874, 7.874], 'layer': 11, 'net': ''}, {'pos': [5580.0, 3330.0], 'size': [7.874, 7.874], 'layer': 11, 'net': ''}, {'pos': [5580.0, 3320.0], 'size': [7.874, 7.874], 'layer': 11, 'net': ''}, {'pos': [5580.0, 3310.0], 'size': [7.874, 7.874], 'layer': 11, 'net': ''}, {'pos': [5580.0, 3300.0], 'size': [7.874, 7.874], 'layer': 11, 'net': ''}, {'pos': [5590.0, 3330.0], 'size': [7.874, 7.874], 'layer': 11, 'net': ''}, {'pos': [5590.0, 3320.0], 'size': [7.874, 7.874], 'layer': 11, 'net': ''}, {'pos': [5590.0, 3310.0], 'size': [7.874, 7.874], 'layer': 11, 'net': ''}, {'pos': [5590.0, 3300.0], 'size': [7.874, 7.874], 'layer': 11, 'net': ''}, {'pos': [5580.0, 3370.0], 'size': [7.874, 7.874], 'layer': 11, 'net': ''}, {'pos': [5580.0, 3360.0], 'size': [7.874, 7.874], 'layer': 11, 'net': ''}, {'pos': [5580.0, 3350.0], 'size': [7.874, 7.874], 'layer': 11, 'net': ''}, {'pos': [5580.0, 3340.0], 'size': [7.874, 7.874], 'layer': 11, 'net': ''}, {'pos': [5590.0, 3370.0], 'size': [7.874, 7.874], 'layer': 11, 'net': ''}, {'pos': [5590.0, 3360.0], 'size': [7.874, 7.874], 'layer': 11, 'net': ''}, {'pos': [5590.0, 3350.0], 'size': [7.874, 7.874], 'layer': 11, 'net': ''}, {'pos': [5590.0, 3340.0], 'size': [7.874, 7.874], 'layer': 11, 'net': ''}, {'pos': [5580.0, 3410.0], 'size': [7.874, 7.874], 'layer': 11, 'net': ''}, {'pos': [5580.0, 3400.0], 'size': [7.874, 7.874], 'layer': 11, 'net': ''}, {'pos': [5580.0, 3390.0], 'size': [7.874, 7.874], 'layer': 11, 'net': ''}, {'pos': [5580.0, 3380.0], 'size': [7.874, 7.874], 'layer': 11, 'net': ''}, {'pos': [5590.0, 3410.0], 'size': [7.874, 7.874], 'layer': 11, 'net': ''}, {'pos': [5590.0, 3400.0], 'size': [7.874, 7.874], 'layer': 11, 'net': ''}, {'pos': [5590.0, 3390.0], 'size': [7.874, 7.874], 'layer': 11, 'net': ''}, {'pos': [5590.0, 3380.0], 'size': [7.874, 7.874], 'layer': 11, 'net': ''}, {'pos': [5580.0, 3450.0], 'size': [7.874, 7.874], 'layer': 11, 'net': ''}, {'pos': [5580.0, 3440.0], 'size': [7.874, 7.874], 'layer': 11, 'net': ''}, {'pos': [5580.0, 3430.0], 'size': [7.874, 7.874], 'layer': 11, 'net': ''}, {'pos': [5580.0, 3420.0], 'size': [7.874, 7.874], 'layer': 11, 'net': ''}, {'pos': [5590.0, 3450.0], 'size': [7.874, 7.874], 'layer': 11, 'net': ''}, {'pos': [5590.0, 3440.0], 'size': [7.874, 7.874], 'layer': 11, 'net': ''}, {'pos': [5590.0, 3430.0], 'size': [7.874, 7.874], 'layer': 11, 'net': ''}, {'pos': [5590.0, 3420.0], 'size': [7.874, 7.874], 'layer': 11, 'net': ''}, {'pos': [5580.0, 3490.0], 'size': [7.874, 7.874], 'layer': 11, 'net': ''}, {'pos': [5580.0, 3480.0], 'size': [7.874, 7.874], 'layer': 11, 'net': ''}, {'pos': [5580.0, 3470.0], 'size': [7.874, 7.874], 'layer': 11, 'net': ''}, {'pos': [5580.0, 3460.0], 'size': [7.874, 7.874], 'layer': 11, 'net': ''}, {'pos': [5590.0, 3490.0], 'size': [7.874, 7.874], 'layer': 11, 'net': ''}, {'pos': [5590.0, 3480.0], 'size': [7.874, 7.874], 'layer': 11, 'net': ''}, {'pos': [5590.0, 3470.0], 'size': [7.874, 7.874], 'layer': 11, 'net': ''}, {'pos': [5590.0, 3460.0], 'size': [7.874, 7.874], 'layer': 11, 'net': ''}, {'pos': [5580.0, 3530.0], 'size': [7.874, 7.874], 'layer': 11, 'net': ''}, {'pos': [5580.0, 3520.0], 'size': [7.874, 7.874], 'layer': 11, 'net': ''}, {'pos': [5580.0, 3510.0], 'size': [7.874, 7.874], 'layer': 11, 'net': ''}, {'pos': [5580.0, 3500.0], 'size': [7.874, 7.874], 'layer': 11, 'net': ''}, {'pos': [5590.0, 3530.0], 'size': [7.874, 7.874], 'layer': 11, 'net': ''}, {'pos': [5590.0, 3520.0], 'size': [7.874, 7.874], 'layer': 11, 'net': ''}, {'pos': [5590.0, 3510.0], 'size': [7.874, 7.874], 'layer': 11, 'net': ''}, {'pos': [5590.0, 3500.0], 'size': [7.874, 7.874], 'layer': 11, 'net': ''}, {'pos': [5580.0, 3570.0], 'size': [7.874, 7.874], 'layer': 11, 'net': ''}, {'pos': [5580.0, 3560.0], 'size': [7.874, 7.874], 'layer': 11, 'net': ''}, {'pos': [5580.0, 3550.0], 'size': [7.874, 7.874], 'layer': 11, 'net': ''}, {'pos': [5580.0, 3540.0], 'size': [7.874, 7.874], 'layer': 11, 'net': ''}, {'pos': [5590.0, 3570.0], 'size': [7.874, 7.874], 'layer': 11, 'net': ''}, {'pos': [5590.0, 3560.0], 'size': [7.874, 7.874], 'layer': 11, 'net': ''}, {'pos': [5590.0, 3550.0], 'size': [7.874, 7.874], 'layer': 11, 'net': ''}, {'pos': [5590.0, 3540.0], 'size': [7.874, 7.874], 'layer': 11, 'net': ''}, {'pos': [5580.0, 3610.0], 'size': [7.874, 7.874], 'layer': 11, 'net': ''}, {'pos': [5580.0, 3600.0], 'size': [7.874, 7.874], 'layer': 11, 'net': ''}, {'pos': [5580.0, 3590.0], 'size': [7.874, 7.874], 'layer': 11, 'net': ''}, {'pos': [5580.0, 3580.0], 'size': [7.874, 7.874], 'layer': 11, 'net': ''}, {'pos': [5590.0, 3610.0], 'size': [7.874, 7.874], 'layer': 11, 'net': ''}, {'pos': [5590.0, 3600.0], 'size': [7.874, 7.874], 'layer': 11, 'net': ''}, {'pos': [5590.0, 3590.0], 'size': [7.874, 7.874], 'layer': 11, 'net': ''}, {'pos': [5590.0, 3580.0], 'size': [7.874, 7.874], 'layer': 11, 'net': ''}, {'pos': [5580.0, 3650.0], 'size': [7.874, 7.874], 'layer': 11, 'net': ''}, {'pos': [5580.0, 3640.0], 'size': [7.874, 7.874], 'layer': 11, 'net': ''}, {'pos': [5580.0, 3630.0], 'size': [7.874, 7.874], 'layer': 11, 'net': ''}, {'pos': [5580.0, 3620.0], 'size': [7.874, 7.874], 'layer': 11, 'net': ''}, {'pos': [5590.0, 3650.0], 'size': [7.874, 7.874], 'layer': 11, 'net': ''}, {'pos': [5590.0, 3640.0], 'size': [7.874, 7.874], 'layer': 11, 'net': ''}, {'pos': [5590.0, 3630.0], 'size': [7.874, 7.874], 'layer': 11, 'net': ''}, {'pos': [5590.0, 3620.0], 'size': [7.874, 7.874], 'layer': 11, 'net': ''}, {'pos': [5580.0, 3690.0], 'size': [7.874, 7.874], 'layer': 11, 'net': ''}, {'pos': [5580.0, 3680.0], 'size': [7.874, 7.874], 'layer': 11, 'net': ''}, {'pos': [5580.0, 3670.0], 'size': [7.874, 7.874], 'layer': 11, 'net': ''}, {'pos': [5580.0, 3660.0], 'size': [7.874, 7.874], 'layer': 11, 'net': ''}, {'pos': [5590.0, 3690.0], 'size': [7.874, 7.874], 'layer': 11, 'net': ''}, {'pos': [5590.0, 3680.0], 'size': [7.874, 7.874], 'layer': 11, 'net': ''}, {'pos': [5590.0, 3670.0], 'size': [7.874, 7.874], 'layer': 11, 'net': ''}, {'pos': [5590.0, 3660.0], 'size': [7.874, 7.874], 'layer': 11, 'net': ''}, {'pos': [5590.0, 3820.0], 'size': [7.874, 7.874], 'layer': 11, 'net': ''}, {'pos': [5590.0, 3830.0], 'size': [7.874, 7.874], 'layer': 11, 'net': ''}, {'pos': [5580.0, 3820.0], 'size': [7.874, 7.874], 'layer': 11, 'net': ''}, {'pos': [5580.0, 3830.0], 'size': [7.874, 7.874], 'layer': 11, 'net': ''}, {'pos': [5580.0, 3730.0], 'size': [7.874, 7.874], 'layer': 11, 'net': ''}, {'pos': [5580.0, 3720.0], 'size': [7.874, 7.874], 'layer': 11, 'net': ''}, {'pos': [5580.0, 3710.0], 'size': [7.874, 7.874], 'layer': 11, 'net': ''}, {'pos': [5580.0, 3700.0], 'size': [7.874, 7.874], 'layer': 11, 'net': ''}, {'pos': [5590.0, 3730.0], 'size': [7.874, 7.874], 'layer': 11, 'net': ''}, {'pos': [5590.0, 3720.0], 'size': [7.874, 7.874], 'layer': 11, 'net': ''}, {'pos': [5590.0, 3710.0], 'size': [7.874, 7.874], 'layer': 11, 'net': ''}, {'pos': [5590.0, 3700.0], 'size': [7.874, 7.874], 'layer': 11, 'net': ''}, {'pos': [5580.0, 3770.0], 'size': [7.874, 7.874], 'layer': 11, 'net': ''}, {'pos': [5580.0, 3760.0], 'size': [7.874, 7.874], 'layer': 11, 'net': ''}, {'pos': [5580.0, 3750.0], 'size': [7.874, 7.874], 'layer': 11, 'net': ''}, {'pos': [5580.0, 3740.0], 'size': [7.874, 7.874], 'layer': 11, 'net': ''}, {'pos': [5590.0, 3770.0], 'size': [7.874, 7.874], 'layer': 11, 'net': ''}, {'pos': [5590.0, 3760.0], 'size': [7.874, 7.874], 'layer': 11, 'net': ''}, {'pos': [5590.0, 3750.0], 'size': [7.874, 7.874], 'layer': 11, 'net': ''}, {'pos': [5590.0, 3740.0], 'size': [7.874, 7.874], 'layer': 11, 'net': ''}, {'pos': [5580.0, 3810.0], 'size': [7.874, 7.874], 'layer': 11, 'net': ''}, {'pos': [5580.0, 3800.0], 'size': [7.874, 7.874], 'layer': 11, 'net': ''}, {'pos': [5580.0, 3790.0], 'size': [7.874, 7.874], 'layer': 11, 'net': ''}, {'pos': [5580.0, 3780.0], 'size': [7.874, 7.874], 'layer': 11, 'net': ''}, {'pos': [5590.0, 3810.0], 'size': [7.874, 7.874], 'layer': 11, 'net': ''}, {'pos': [5590.0, 3800.0], 'size': [7.874, 7.874], 'layer': 11, 'net': ''}, {'pos': [5590.0, 3790.0], 'size': [7.874, 7.874], 'layer': 11, 'net': ''}, {'pos': [5590.0, 3780.0], 'size': [7.874, 7.874], 'layer': 11, 'net': ''}, {'pos': [5580.0, 3840.0], 'size': [7.874, 7.874], 'layer': 11, 'net': ''}, {'pos': [5590.0, 3840.0], 'size': [7.874, 7.874], 'layer': 11, 'net': ''}, {'pos': [5590.0, 3850.0], 'size': [7.874, 7.874], 'layer': 11, 'net': ''}]\n"
     ]
    }
   ],
   "source": [
    "print(max_pcb)"
   ]
  },
  {
   "cell_type": "code",
   "execution_count": 3,
   "metadata": {},
   "outputs": [],
   "source": [
    "print(DataGenerator.loadData(\"000a5fc5e50b4009bbb09756d16790a8\"))\n",
    "\n"
   ]
  },
  {
   "cell_type": "code",
   "execution_count": null,
   "metadata": {},
   "outputs": [],
   "source": []
  }
 ]
}
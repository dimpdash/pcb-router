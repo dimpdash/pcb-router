{
 "metadata": {
  "language_info": {
   "codemirror_mode": {
    "name": "ipython",
    "version": 3
   },
   "file_extension": ".py",
   "mimetype": "text/x-python",
   "name": "python",
   "nbconvert_exporter": "python",
   "pygments_lexer": "ipython3",
   "version": "3.8.5-final"
  },
  "orig_nbformat": 2,
  "kernelspec": {
   "name": "python3",
   "display_name": "Python 3.8.5 64-bit ('venv')",
   "metadata": {
    "interpreter": {
     "hash": "c308192bfc22dbed02460204f823ffc3dc409c3b3423b9a3bd92acaefab5c500"
    }
   }
  }
 },
 "nbformat": 4,
 "nbformat_minor": 2,
 "cells": [
  {
   "cell_type": "code",
   "execution_count": 1,
   "metadata": {},
   "outputs": [],
   "source": [
    "%load_ext autoreload\n",
    "%autoreload 2\n",
    "\n",
    "from scraperTools import getDataFromFile, saveDataToFile\n",
    "from PCB_parser import getFeatures, createDictForShapes"
   ]
  },
  {
   "cell_type": "code",
   "execution_count": 7,
   "metadata": {},
   "outputs": [
    {
     "output_type": "execute_result",
     "data": {
      "text/plain": [
       "[]"
      ]
     },
     "metadata": {},
     "execution_count": 7
    }
   ],
   "source": [
    "pcbsRaw = getDataFromFile(\"./pcb files/pcb files 1.data\")\n",
    "pcbsRaw"
   ]
  },
  {
   "cell_type": "code",
   "execution_count": null,
   "metadata": {},
   "outputs": [],
   "source": []
  },
  {
   "cell_type": "code",
   "execution_count": 3,
   "metadata": {
    "tags": []
   },
   "outputs": [],
   "source": [
    "# pcbParsed = createDictForShapes(pcbs[1][\"shape\"])"
   ]
  },
  {
   "cell_type": "code",
   "execution_count": 4,
   "metadata": {
    "tags": []
   },
   "outputs": [
    {
     "output_type": "stream",
     "name": "stdout",
     "text": [
      "set()\n"
     ]
    }
   ],
   "source": [
    "import PCB_parser as pp\n",
    "\n",
    "shapeTypes = set()\n",
    "for i in range(len(pcbsRaw)):\n",
    "    pcb = pcbsRaw[i][\"shape\"]\n",
    "    currShapeTypes = getFeatures(pcb)\n",
    "    shapeTypes =shapeTypes.union(currShapeTypes)\n",
    "print(shapeTypes)"
   ]
  },
  {
   "cell_type": "code",
   "execution_count": 5,
   "metadata": {
    "tags": []
   },
   "outputs": [],
   "source": [
    "pcbs = []\n",
    "for i in range(len(pcbsRaw)):\n",
    "    pcbParsed = createDictForShapes(pcbsRaw[i][\"shape\"])\n",
    "    pcbs.append(pcbParsed)"
   ]
  },
  {
   "cell_type": "code",
   "execution_count": 6,
   "metadata": {},
   "outputs": [
    {
     "output_type": "stream",
     "name": "stdout",
     "text": [
      "[]\n"
     ]
    }
   ],
   "source": [
    "print(pcbs)"
   ]
  },
  {
   "cell_type": "code",
   "execution_count": 9,
   "metadata": {},
   "outputs": [
    {
     "output_type": "stream",
     "name": "stdout",
     "text": [
      "True\n"
     ]
    }
   ],
   "source": [
    "a = 'hey \"3a\" 2'\n",
    "\n",
    "print( '\"3a\"' in a)"
   ]
  },
  {
   "cell_type": "code",
   "execution_count": 62,
   "metadata": {},
   "outputs": [],
   "source": [
    "datas = getDataFromFile(\"./raw data files/raw files 0.data\")\n",
    "badData = datas[5345]\n",
    "with open(\"badRaw.txt\", 'w') as fileHandle:\n",
    "    fileHandle.write(badData)\n"
   ]
  },
  {
   "cell_type": "code",
   "execution_count": 61,
   "metadata": {
    "tags": []
   },
   "outputs": [
    {
     "output_type": "stream",
     "name": "stdout",
     "text": [
      "28ade186e8cd019e3f\",\"title\":\"PCB_VA03\",\"description\":\"\",\"docType\":3,\"master\":\"4b4f1fe798354c06a916956b52f9f02f\",\"thumb\":\"\\/\\/image.easyeda.com\\/histories\\/4b4f1fe798354c06a916956b52f9f02f.png\",\"components\":{\"b9efc06d0fb742f99a478d48de211eb9\":14,\"c5b44f3091844bd090b0f02affc15d65\":13,\"75844c5980bb4094beb1dc6c0a3a9856\":15,\"ce6e0cc9b0684cd986edbf86d7075dfd\":3,\"9e90484f02ae46a7aa8d1d277c10d80b\":1,\"912a75eb908e48e1ac6280fbf7d4259c\":1,\"d90b584d6861470e82525d5ddfe7dc4c\":1,\"801c0730f060423baf9fddb53277c60a\":1},\"updated_at\":\"2020-10-09 13:28:05\",\"created_at\":\"2020-04-10 07:26:59\",\"updateTime\":1602244980,\"download_times\":14,\"isAnonymousFile\":false,\"writable\":false,\"datastrid\":\"4b4f1fe798354c06a916956b52f9f02f\",\"dataStr\":{\"head\":{\"docType\":\"3\",\"editorVersion\":\"6.4.7\",\"c_para\":[],\"bind_sch_id\":[\"8ab90dc335e84cb7bcc97530fc69f605\"],\"hasIdFlag\":true,\"x\":\"4020\",\"y\":\"3438.5\",\"importFlag\":0,\"transformList\":\"\",\"newgId\":true},\"canvas\":\"CA~1000~1000~#000000~yes~#FFFFFF~10~1000~1000~line~0.5~mm~1~45~visible~0.5~4020~3438.5~1~yes\",\"shape\":[\"COPPERAREA~1~2~GND~M 4019.5 3231.5 L 4391.5 3229.5 L 4392 3438.5 L 4020.5 3439 L 4019.5 3231.5 L 4019 3231.5 Z~1~solid~gge6093~spoke~none~~0~~4~1~1~1~yes~0\",\"COPPERAREA~1~1~GND~M 4016.5 3444 L 4017.5 3444 L 4018.4988 3444 L 4018 3227.5 L 4394.5 3227.5 L 4395 3228 L 4\n\nNone\n"
     ]
    },
    {
     "output_type": "error",
     "ename": "TypeError",
     "evalue": "unsupported operand type(s) for +: 'NoneType' and 'int'",
     "traceback": [
      "\u001b[0;31m---------------------------------------------------------------------------\u001b[0m",
      "\u001b[0;31mTypeError\u001b[0m                                 Traceback (most recent call last)",
      "\u001b[0;32m<ipython-input-61-6d8d3b3bbfc2>\u001b[0m in \u001b[0;36m<module>\u001b[0;34m\u001b[0m\n\u001b[1;32m     17\u001b[0m     \u001b[0mfileHandle\u001b[0m\u001b[0;34m.\u001b[0m\u001b[0mwrite\u001b[0m\u001b[0;34m(\u001b[0m\u001b[0mbadData\u001b[0m\u001b[0;34m[\u001b[0m\u001b[0mstart\u001b[0m\u001b[0;34m:\u001b[0m\u001b[0mend\u001b[0m\u001b[0;34m]\u001b[0m\u001b[0;34m)\u001b[0m\u001b[0;34m\u001b[0m\u001b[0;34m\u001b[0m\u001b[0m\n\u001b[1;32m     18\u001b[0m \u001b[0;32mwith\u001b[0m \u001b[0mopen\u001b[0m\u001b[0;34m(\u001b[0m\u001b[0;34m\"tmp.txt\"\u001b[0m\u001b[0;34m,\u001b[0m \u001b[0;34m\"w\"\u001b[0m\u001b[0;34m)\u001b[0m \u001b[0;32mas\u001b[0m \u001b[0mfileHandle\u001b[0m\u001b[0;34m:\u001b[0m\u001b[0;34m\u001b[0m\u001b[0;34m\u001b[0m\u001b[0m\n\u001b[0;32m---> 19\u001b[0;31m     \u001b[0mfileHandle\u001b[0m\u001b[0;34m.\u001b[0m\u001b[0mwrite\u001b[0m\u001b[0;34m(\u001b[0m\u001b[0mbadData\u001b[0m\u001b[0;34m[\u001b[0m\u001b[0;34m:\u001b[0m\u001b[0mstart\u001b[0m\u001b[0;34m-\u001b[0m\u001b[0;36m1\u001b[0m\u001b[0;34m]\u001b[0m \u001b[0;34m+\u001b[0m \u001b[0;34m'\"tmp\"'\u001b[0m\u001b[0;34m+\u001b[0m \u001b[0mbadData\u001b[0m\u001b[0;34m[\u001b[0m\u001b[0mend\u001b[0m\u001b[0;34m+\u001b[0m\u001b[0;36m1\u001b[0m\u001b[0;34m:\u001b[0m\u001b[0;34m]\u001b[0m\u001b[0;34m)\u001b[0m\u001b[0;34m\u001b[0m\u001b[0;34m\u001b[0m\u001b[0m\n\u001b[0m\u001b[1;32m     20\u001b[0m \u001b[0;31m# print(badData[71713-100:71713+100])\u001b[0m\u001b[0;34m\u001b[0m\u001b[0;34m\u001b[0m\u001b[0;34m\u001b[0m\u001b[0m\n\u001b[1;32m     21\u001b[0m \u001b[0;31m# print( '\"docType\":3' in badData)\u001b[0m\u001b[0;34m\u001b[0m\u001b[0;34m\u001b[0m\u001b[0;34m\u001b[0m\u001b[0m\n",
      "\u001b[0;31mTypeError\u001b[0m: unsupported operand type(s) for +: 'NoneType' and 'int'"
     ]
    }
   ],
   "source": [
    "import pickle, json\n",
    "print(badData[100:1400])\n",
    "print()\n",
    "start = badData.index('shape\":[') + len('shape\":[')\n",
    "openCount = 0\n",
    "end = None\n",
    "for i in range(start, len(badData)):\n",
    "    if badData[i] ==\"]\":\n",
    "        openCount -= 1\n",
    "        if openCount == -1:\n",
    "            end = i\n",
    "            break\n",
    "    elif badData[i] == \"[\":\n",
    "        openCount += 1\n",
    "    if count == 2:\n",
    "        print(i)\n",
    "print(end)  \n",
    "with open(\"tmp2.txt\", \"w\") as fileHandle:\n",
    "    fileHandle.write(badData[start:end])\n",
    "with open(\"tmp.txt\", \"w\") as fileHandle:\n",
    "    fileHandle.write(badData[:start-1] + '\"tmp\"'+ badData[end+1:])\n",
    "# print(badData[71713-100:71713+100])\n",
    "# print( '\"docType\":3' in badData)\n",
    "a = json.loads(badData, strict = False)\n",
    "print(a[\"success\"])"
   ]
  },
  {
   "cell_type": "code",
   "execution_count": 58,
   "metadata": {},
   "outputs": [
    {
     "output_type": "stream",
     "name": "stderr",
     "text": [
      "[autoreload of scraperTools failed: Traceback (most recent call last):\n  File \"/mnt/c/Users/dimpd/OneDrive/Documents/GitHub/pcb-router/venv/lib/python3.8/site-packages/IPython/extensions/autoreload.py\", line 245, in check\n    superreload(m, reload, self.old_objects)\n  File \"/mnt/c/Users/dimpd/OneDrive/Documents/GitHub/pcb-router/venv/lib/python3.8/site-packages/IPython/extensions/autoreload.py\", line 394, in superreload\n    module = reload(module)\n  File \"/usr/lib/python3.8/imp.py\", line 314, in reload\n    return importlib.reload(module)\n  File \"/usr/lib/python3.8/importlib/__init__.py\", line 169, in reload\n    _bootstrap._exec(spec, module)\n  File \"<frozen importlib._bootstrap>\", line 604, in _exec\n  File \"<frozen importlib._bootstrap_external>\", line 779, in exec_module\n  File \"<frozen importlib._bootstrap_external>\", line 916, in get_code\n  File \"<frozen importlib._bootstrap_external>\", line 846, in source_to_code\n  File \"<frozen importlib._bootstrap>\", line 219, in _call_with_frames_removed\n  File \"/mnt/c/Users/dimpd/OneDrive/Documents/GitHub/pcb-router/scraperTools.py\", line 68\n    jsonData = json.loads(text[:start-1] + text[], strict = False)\n                                                ^\nSyntaxError: invalid syntax\n]\n"
     ]
    },
    {
     "output_type": "error",
     "ename": "TypeError",
     "evalue": "unsupported operand type(s) for +: 'int' and 'NoneType'",
     "traceback": [
      "\u001b[0;31m---------------------------------------------------------------------------\u001b[0m",
      "\u001b[0;31mTypeError\u001b[0m                                 Traceback (most recent call last)",
      "\u001b[0;32m<ipython-input-58-b3f5c5c4a4f2>\u001b[0m in \u001b[0;36m<module>\u001b[0;34m\u001b[0m\n\u001b[0;32m----> 1\u001b[0;31m \u001b[0mprint\u001b[0m\u001b[0;34m(\u001b[0m\u001b[0;36m1\u001b[0m\u001b[0;34m+\u001b[0m\u001b[0;32mNone\u001b[0m\u001b[0;34m)\u001b[0m\u001b[0;34m\u001b[0m\u001b[0;34m\u001b[0m\u001b[0m\n\u001b[0m",
      "\u001b[0;31mTypeError\u001b[0m: unsupported operand type(s) for +: 'int' and 'NoneType'"
     ]
    }
   ],
   "source": [
    "print(1+None)"
   ]
  },
  {
   "cell_type": "code",
   "execution_count": null,
   "metadata": {},
   "outputs": [],
   "source": [
    "import requests\n",
    "id = \"957ca559ad06402b96ff1665aa26d47e\"\n",
    "r = requests.get(\"https://easyeda.com/api/documents/\" + id + \"?version=6.4.7&uuid=\" + id)\n",
    "print(r.json())"
   ]
  }
 ]
}
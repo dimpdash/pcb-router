{
 "metadata": {
  "language_info": {
   "codemirror_mode": {
    "name": "ipython",
    "version": 3
   },
   "file_extension": ".py",
   "mimetype": "text/x-python",
   "name": "python",
   "nbconvert_exporter": "python",
   "pygments_lexer": "ipython3",
   "version": "3.8.5-final"
  },
  "orig_nbformat": 2,
  "kernelspec": {
   "name": "python3",
   "display_name": "Python 3.8.5 64-bit ('venv': venv)",
   "metadata": {
    "interpreter": {
     "hash": "c308192bfc22dbed02460204f823ffc3dc409c3b3423b9a3bd92acaefab5c500"
    }
   }
  }
 },
 "nbformat": 4,
 "nbformat_minor": 2,
 "cells": [
  {
   "cell_type": "code",
   "execution_count": 2,
   "metadata": {},
   "outputs": [],
   "source": [
    "%load_ext autoreload\n",
    "%autoreload 2\n",
    "\n",
    "from scraperTools import getDataFromFile, saveDataToFile\n",
    "from PCB_parser import getFeatures, createDictForShapes, createDictForAttributes\n",
    "import copy"
   ]
  },
  {
   "cell_type": "code",
   "execution_count": 156,
   "metadata": {},
   "outputs": [],
   "source": [
    "pcbsUnformatted = getDataFromFile(\"./pcb files/pcb files 10.data\")\n"
   ]
  },
  {
   "cell_type": "code",
   "execution_count": 166,
   "metadata": {
    "tags": []
   },
   "outputs": [
    {
     "output_type": "stream",
     "name": "stdout",
     "text": [
      "{'', 'F', 'SOLIDREGION', 'R', 'A', 'LIB', 'HOLE', 'PL', 'COPPERAREA', 'ARC', 'PLANEZONE', 'T', 'SVGNODE', 'DIMENSION', 'W', 'RECT', 'VIA', 'TRACK', 'TEXT', 'N', 'P', 'PG', 'SHEET', 'PAD', 'PROTRACTOR', 'E', 'CIRCLE', 'J'}\n",
      "{'', 'F', 'SOLIDREGION', 'R', 'A', 'LIB', 'HOLE', 'PL', 'COPPERAREA', 'ARC', 'PLANEZONE', 'T', 'SVGNODE', 'DIMENSION', 'W', 'RECT', 'VIA', 'TRACK', 'TEXT', 'N', 'P', 'PG', 'SHEET', 'PAD', 'PROTRACTOR', 'E', 'CIRCLE', 'J'}\n",
      "{'', 'F', 'SOLIDREGION', 'R', 'A', 'LIB', 'HOLE', 'PL', 'COPPERAREA', 'ARC', 'PLANEZONE', 'T', 'SVGNODE', 'DIMENSION', 'W', 'RECT', 'VIA', 'TRACK', 'TEXT', 'N', 'P', 'PG', 'SHEET', 'PAD', 'PROTRACTOR', 'E', 'CIRCLE', 'J'}\n",
      "{'', 'F', 'SOLIDREGION', 'R', 'A', 'LIB', 'HOLE', 'PL', 'COPPERAREA', 'ARC', 'PLANEZONE', 'T', 'SVGNODE', 'DIMENSION', 'W', 'RECT', 'VIA', 'TRACK', 'TEXT', 'N', 'P', 'PG', 'SHEET', 'PAD', 'PROTRACTOR', 'E', 'CIRCLE', 'J'}\n",
      "{'', 'F', 'SOLIDREGION', 'PAD', 'R', 'A', 'LIB', 'HOLE', 'COPPERAREA', 'CIRCLE', 'PLANEZONE', 'ARC', 'T', 'SVGNODE', 'DIMENSION', 'W', 'RECT', 'VIA', 'TRACK', 'TEXT', 'P', 'PG', 'SHEET', 'N', 'PROTRACTOR', 'E', 'PL', 'J'}\n",
      "{'', 'F', 'SOLIDREGION', 'R', 'A', 'LIB', 'HOLE', 'PL', 'COPPERAREA', 'ARC', 'PLANEZONE', 'T', 'SVGNODE', 'DIMENSION', 'W', 'RECT', 'VIA', 'TRACK', 'TEXT', 'N', 'P', 'PG', 'SHEET', 'PAD', 'PROTRACTOR', 'E', 'CIRCLE', 'J'}\n",
      "{'', 'F', 'SOLIDREGION', 'PAD', 'R', 'A', 'LIB', 'HOLE', 'COPPERAREA', 'CIRCLE', 'PLANEZONE', 'ARC', 'T', 'SVGNODE', 'DIMENSION', 'W', 'RECT', 'VIA', 'TRACK', 'TEXT', 'P', 'PG', 'SHEET', 'N', 'PROTRACTOR', 'E', 'PL', 'J'}\n",
      "{'', 'F', 'SOLIDREGION', 'R', 'A', 'LIB', 'HOLE', 'PL', 'COPPERAREA', 'ARC', 'PLANEZONE', 'T', 'SVGNODE', 'DIMENSION', 'W', 'RECT', 'VIA', 'TRACK', 'TEXT', 'N', 'P', 'PG', 'SHEET', 'PAD', 'PROTRACTOR', 'E', 'CIRCLE', 'J'}\n",
      "{'', 'F', 'SOLIDREGION', 'R', 'A', 'LIB', 'HOLE', 'PL', 'COPPERAREA', 'ARC', 'PLANEZONE', 'T', 'SVGNODE', 'DIMENSION', 'W', 'RECT', 'VIA', 'TRACK', 'TEXT', 'N', 'P', 'PG', 'SHEET', 'PAD', 'PROTRACTOR', 'E', 'CIRCLE', 'J'}\n",
      "{'', 'F', 'SOLIDREGION', 'R', 'A', 'LIB', 'HOLE', 'PL', 'COPPERAREA', 'ARC', 'PLANEZONE', 'T', 'SVGNODE', 'DIMENSION', 'W', 'RECT', 'VIA', 'TRACK', 'TEXT', 'N', 'P', 'PG', 'SHEET', 'PAD', 'PROTRACTOR', 'E', 'CIRCLE', 'J'}\n",
      "{'', 'F', 'SOLIDREGION', 'R', 'A', 'LIB', 'HOLE', 'PL', 'COPPERAREA', 'ARC', 'PLANEZONE', 'T', 'SVGNODE', 'DIMENSION', 'W', 'RECT', 'VIA', 'TRACK', 'TEXT', 'N', 'P', 'PG', 'SHEET', 'PAD', 'PROTRACTOR', 'E', 'CIRCLE', 'J'}\n"
     ]
    }
   ],
   "source": [
    "# shapeTypes = set()\n",
    "\n",
    "# for j in range(0, 10 + 1):\n",
    "#     pcbsUnformatted2 = getDataFromFile(\"./pcb files/pcb files \" + str(j) + \".data\")\n",
    "#     for i in range(len(pcbsUnformatted2)):\n",
    "#         pcbRawShapeData = pcbsUnformatted2[i][\"result\"][\"dataStr\"][\"shape\"]\n",
    "#         currShapeTypes = getFeatures(pcbRawShapeData)\n",
    "#         shapeTypes =shapeTypes.union(currShapeTypes)\n",
    "#         print(\"Done \", i)\n",
    "# print(shapeTypes)"
   ]
  },
  {
   "cell_type": "code",
   "execution_count": 158,
   "metadata": {},
   "outputs": [],
   "source": [
    "pcbs = copy.deepcopy(pcbsUnformatted)"
   ]
  },
  {
   "cell_type": "code",
   "execution_count": 159,
   "metadata": {
    "tags": []
   },
   "outputs": [],
   "source": [
    "for i in range(len(pcbsUnformatted)):\n",
    "    try:\n",
    "        pcbShapeDict = createDictForShapes(pcbsUnformatted[i][\"result\"][\"dataStr\"][\"shape\"]);\n",
    "    except:\n",
    "        # print(pcbsUnformatted[i][\"result\"][\"dataStr\"][\"shape\"])\n",
    "        raise\n",
    "    pcbs[i][\"result\"][\"dataStr\"][\"shape\"] = pcbShapeDict;"
   ]
  },
  {
   "cell_type": "code",
   "execution_count": 160,
   "metadata": {},
   "outputs": [],
   "source": [
    "# padTypes = set()\n",
    "# for pcb in pcbs:\n",
    "#     for shape in pcb[\"result\"][\"dataStr\"][\"shape\"]:\n",
    "#         if \"PAD\" in shape:\n",
    "#             padTypes.add(shape[\"PAD\"].split(\"~\",maxsplit=1)[0])\n",
    "# print(padTypes)"
   ]
  },
  {
   "cell_type": "code",
   "execution_count": 7,
   "metadata": {},
   "outputs": [
    {
     "output_type": "stream",
     "name": "stdout",
     "text": [
      "{'type': 'POLYGON', 'x': '646', 'y': '637', 'width': '6', 'height': '6', 'layer': '11', 'net': 'S$429', 'rot': '0', 'id': 'gge6552'}\n{'type': 'RECT', 'x': '4732.285', 'y': '3077.475', 'width': '15.748', 'height': '7.874', 'layer': '11', 'net': 'VIN', 'rot': '180', 'id': 'gge1804'}\n{'type': 'OVAL', 'x': '4732.29', 'y': '3052.38', 'width': '15.748', 'height': '7.874', 'layer': '11', 'net': 'GND', 'rot': '180', 'id': 'gge1806'}\n{'type': 'ELLIPSE', 'x': '4779.94', 'y': '3250.02', 'width': '7.874', 'height': '7.874', 'layer': '11', 'net': 'U12_1', 'rot': '90', 'id': 'gge1816'}\n{'x': '500', 'y': '459', 'rot': '270', 'id': 'gge545'}\n{'width': '1', 'layer': '4', 'net': 'S$28', 'points': [('4462', '3121.99'), ('4296.84', '3121.99')], 'id': 'gge1509'}\n"
     ]
    }
   ],
   "source": [
    "polygonSample = {\"PAD\":\"POLYGON~646~637~6~6~11~S$429~60~1.8~643 634 649 634 649 640 643 640~0~gge6552~3.78~645.91 637 646.09 637~Y~0~0~0.4~\"}\n",
    "rectSample = {\"PAD\": \"RECT~4732.285~3077.475~15.748~7.874~11~VIN~1~1.181~4740.16 3081.41 4724.41 3081.41 4724.41 3073.54 4740.16 3073.54~180~gge1804~12.202~4737.19 3077.43 4727.35 3077.43~Y~0~0~0.4\"}\n",
    "ovalSample = {\"PAD\": \"OVAL~4732.29~3052.38~15.748~7.874~11~GND~2~1.9685~4736.23 3052.38 4728.35 3052.38~180~gge1806~11.817~4736.23 3052.38 4728.35 3052.38~Y~0~0~0.4\"}\n",
    "ellipseSample = {\"PAD\": \"ELLIPSE~4779.94~3250.02~7.874~7.874~11~U12_1~1~1.9685~~90~gge1816~0~~Y~0~0~0.4\"}\n",
    "libSample = {\"LIB\" : \"500~459~package`AUDIO-JACK 3.5 MM 2`Contributor`SparkFun`sourceId`jpAaKIiRr`timeStamp`1470870920`~270~~gge545~2\"}\n",
    "trackSample = {\"TRACK\": \"1~4~S$28~4462 3121.99 4296.84 3121.99~gge1509~0\"}\n",
    "print(createDictForAttributes(polygonSample))\n",
    "print(createDictForAttributes(rectSample))\n",
    "print(createDictForAttributes(ovalSample))\n",
    "print(createDictForAttributes(ellipseSample))\n",
    "print(createDictForAttributes(libSample))\n",
    "print(createDictForAttributes(trackSample))"
   ]
  },
  {
   "cell_type": "code",
   "execution_count": 162,
   "metadata": {
    "tags": []
   },
   "outputs": [],
   "source": [
    "testpcb = createDictForShapes(pcbsUnformatted[250][\"result\"][\"dataStr\"][\"shape\"]);\n",
    "\n",
    "\n"
   ]
  },
  {
   "cell_type": "code",
   "execution_count": 163,
   "metadata": {},
   "outputs": [
    {
     "output_type": "stream",
     "name": "stdout",
     "text": [
      "{'TRACK': {'width': '3', 'layer': '2', 'net': 'VCC', 'points': [('218.902', '229.823'), ('218.902', '239.363'), ('219', '241')], 'id': 'gge61'}}\n"
     ]
    }
   ],
   "source": [
    "print(pcbs[1][\"result\"][\"dataStr\"][\"shape\"][15])"
   ]
  },
  {
   "cell_type": "code",
   "execution_count": null,
   "metadata": {},
   "outputs": [],
   "source": [
    "trainData = getDataFromFile(\"model data/train.data\")\n",
    "testData = getDataFromFile(\"model data/test.data\")\n",
    "\n",
    "all = trainData[0] + trainData[1] + testData[0] testData[1]"
   ]
  }
 ]
}